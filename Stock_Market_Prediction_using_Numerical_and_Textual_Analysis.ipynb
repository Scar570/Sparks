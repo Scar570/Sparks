{
 "cells": [
  {
   "cell_type": "markdown",
   "metadata": {
    "id": "Pr89JJkZRnkQ"
   },
   "source": [
    "# **Task 7 : Stock Market Prediction using Numerical and Textual Analysis**\n",
    "\n",
    "**GRIP @ The Sparks Foundation**\n",
    "\n",
    "### **Author:** Uttam Biswas\n",
    "### Data Science & Business Analytics Intern\n",
    "**September 2022**\n",
    "\n",
    "Here, our main objective is to create a hybrid model for stock price/performance \n",
    "prediction using numerical analysis of historical stock prices, and \n",
    "sentimental analysis of news headlines. \n",
    "\n",
    "For this purpose, I have downloaded the dataset of stock prices of TCS from [finance.yahoo.com](https://in.finance.yahoo.com/)  and downloaded textual data from https://bit.ly/36fFPI6."
   ]
  },
  {
   "cell_type": "markdown",
   "metadata": {
    "id": "7Ib3gEarZD0C"
   },
   "source": [
    "# **Step 1: Stock Price Analysis and Prediction**\n"
   ]
  },
  {
   "cell_type": "markdown",
   "metadata": {
    "id": "MsRM5f1MSPh_"
   },
   "source": [
    "\n",
    "\n",
    "# **Step 1.1: Importing Required Libraries for numerical analysis and prediction of stock prices**\n",
    "\n",
    "Technical Stack used : \n",
    "* Numpy Array\n",
    "* Matplotlib\n",
    "* Pandas\n",
    "* Keras\n",
    "* Scikit Learn\n",
    "* Math"
   ]
  },
  {
   "cell_type": "code",
   "execution_count": 37,
   "metadata": {
    "id": "lKpLp-CLON21"
   },
   "outputs": [],
   "source": [
    "import numpy as np\n",
    "import matplotlib.pyplot as plt\n",
    "import pandas as pd \n",
    "from sklearn.preprocessing import MinMaxScaler\n",
    "from sklearn.metrics import mean_squared_error\n",
    "from sklearn import metrics \n",
    "from keras.models import Sequential\n",
    "from keras.layers import Dense, LSTM\n",
    "import math"
   ]
  },
  {
   "cell_type": "markdown",
   "metadata": {
    "id": "3w2GBiP4TTT4"
   },
   "source": [
    "# **Step 1.2 : Importing the Numerical dataset and performing Exploratory Analysis**"
   ]
  },
  {
   "cell_type": "code",
   "execution_count": 38,
   "metadata": {
    "colab": {
     "base_uri": "https://localhost:8080/",
     "height": 203
    },
    "id": "_EOk1WHaOkU0",
    "outputId": "4c4bce7f-9780-41c0-ed5b-285d4cd1ce2d"
   },
   "outputs": [
    {
     "data": {
      "text/html": [
       "<div>\n",
       "<style scoped>\n",
       "    .dataframe tbody tr th:only-of-type {\n",
       "        vertical-align: middle;\n",
       "    }\n",
       "\n",
       "    .dataframe tbody tr th {\n",
       "        vertical-align: top;\n",
       "    }\n",
       "\n",
       "    .dataframe thead th {\n",
       "        text-align: right;\n",
       "    }\n",
       "</style>\n",
       "<table border=\"1\" class=\"dataframe\">\n",
       "  <thead>\n",
       "    <tr style=\"text-align: right;\">\n",
       "      <th></th>\n",
       "      <th>Date</th>\n",
       "      <th>Open</th>\n",
       "      <th>High</th>\n",
       "      <th>Low</th>\n",
       "      <th>Close</th>\n",
       "      <th>Adj Close</th>\n",
       "      <th>Volume</th>\n",
       "    </tr>\n",
       "  </thead>\n",
       "  <tbody>\n",
       "    <tr>\n",
       "      <th>0</th>\n",
       "      <td>01-01-2003</td>\n",
       "      <td>59.987499</td>\n",
       "      <td>61.974998</td>\n",
       "      <td>59.987499</td>\n",
       "      <td>61.087502</td>\n",
       "      <td>45.521038</td>\n",
       "      <td>6027072.0</td>\n",
       "    </tr>\n",
       "    <tr>\n",
       "      <th>1</th>\n",
       "      <td>02-01-2003</td>\n",
       "      <td>61.525002</td>\n",
       "      <td>62.924999</td>\n",
       "      <td>57.912498</td>\n",
       "      <td>58.299999</td>\n",
       "      <td>43.443855</td>\n",
       "      <td>5325328.0</td>\n",
       "    </tr>\n",
       "    <tr>\n",
       "      <th>2</th>\n",
       "      <td>03-01-2003</td>\n",
       "      <td>60.000000</td>\n",
       "      <td>61.049999</td>\n",
       "      <td>58.500000</td>\n",
       "      <td>59.012501</td>\n",
       "      <td>43.974789</td>\n",
       "      <td>4198040.0</td>\n",
       "    </tr>\n",
       "    <tr>\n",
       "      <th>3</th>\n",
       "      <td>06-01-2003</td>\n",
       "      <td>59.924999</td>\n",
       "      <td>60.187500</td>\n",
       "      <td>56.875000</td>\n",
       "      <td>57.262501</td>\n",
       "      <td>42.670746</td>\n",
       "      <td>4121520.0</td>\n",
       "    </tr>\n",
       "    <tr>\n",
       "      <th>4</th>\n",
       "      <td>07-01-2003</td>\n",
       "      <td>58.000000</td>\n",
       "      <td>58.500000</td>\n",
       "      <td>56.062500</td>\n",
       "      <td>56.599998</td>\n",
       "      <td>42.177040</td>\n",
       "      <td>2650800.0</td>\n",
       "    </tr>\n",
       "  </tbody>\n",
       "</table>\n",
       "</div>"
      ],
      "text/plain": [
       "         Date       Open       High        Low      Close  Adj Close  \\\n",
       "0  01-01-2003  59.987499  61.974998  59.987499  61.087502  45.521038   \n",
       "1  02-01-2003  61.525002  62.924999  57.912498  58.299999  43.443855   \n",
       "2  03-01-2003  60.000000  61.049999  58.500000  59.012501  43.974789   \n",
       "3  06-01-2003  59.924999  60.187500  56.875000  57.262501  42.670746   \n",
       "4  07-01-2003  58.000000  58.500000  56.062500  56.599998  42.177040   \n",
       "\n",
       "      Volume  \n",
       "0  6027072.0  \n",
       "1  5325328.0  \n",
       "2  4198040.0  \n",
       "3  4121520.0  \n",
       "4  2650800.0  "
      ]
     },
     "execution_count": 38,
     "metadata": {},
     "output_type": "execute_result"
    }
   ],
   "source": [
    "# Dataframe for exploratory analysis\n",
    "df=pd.read_csv('TCS.NS_Stock.csv')\n",
    "df.head()"
   ]
  },
  {
   "cell_type": "code",
   "execution_count": 39,
   "metadata": {
    "colab": {
     "base_uri": "https://localhost:8080/"
    },
    "id": "2AEzzRfB31D_",
    "outputId": "dad8d289-4cce-42c1-e290-6e959a765ecb"
   },
   "outputs": [
    {
     "name": "stdout",
     "output_type": "stream",
     "text": [
      "<class 'pandas.core.frame.DataFrame'>\n",
      "RangeIndex: 4476 entries, 0 to 4475\n",
      "Data columns (total 7 columns):\n",
      " #   Column     Non-Null Count  Dtype  \n",
      "---  ------     --------------  -----  \n",
      " 0   Date       4476 non-null   object \n",
      " 1   Open       4460 non-null   float64\n",
      " 2   High       4460 non-null   float64\n",
      " 3   Low        4460 non-null   float64\n",
      " 4   Close      4460 non-null   float64\n",
      " 5   Adj Close  4460 non-null   float64\n",
      " 6   Volume     4460 non-null   float64\n",
      "dtypes: float64(6), object(1)\n",
      "memory usage: 244.9+ KB\n"
     ]
    }
   ],
   "source": [
    "df.info()"
   ]
  },
  {
   "cell_type": "code",
   "execution_count": 42,
   "metadata": {
    "colab": {
     "base_uri": "https://localhost:8080/",
     "height": 545
    },
    "id": "MgH14DslPAwc",
    "outputId": "a4b975cc-2bbf-4d3f-b6f0-486cf5785e77"
   },
   "outputs": [
    {
     "data": {
      "text/plain": [
       "[<matplotlib.lines.Line2D at 0x1b38b385b50>]"
      ]
     },
     "execution_count": 42,
     "metadata": {},
     "output_type": "execute_result"
    },
    {
     "data": {
      "image/png": "[encoded data removed]",
      "text/plain": [
       "<Figure size 1152x576 with 1 Axes>"
      ]
     },
     "metadata": {
      "needs_background": "light"
     },
     "output_type": "display_data"
    }
   ],
   "source": [
    "# Extract date frame and plot closing stock price w.r.t time\n",
    "df['Date'] = pd.to_datetime(df.Date,format='%d-%m-%Y')\n",
    "df.index = df['Date']\n",
    "df.dropna(inplace=True)\n",
    "#plot\n",
    "plt.figure(figsize=(16,8))\n",
    "plt.title('Close Price history\\n')\n",
    "plt.xlabel('Time (Year)')\n",
    "plt.ylabel('Close Price')\n",
    "plt.plot(df['Close'])"
   ]
  },
  {
   "cell_type": "code",
   "execution_count": 43,
   "metadata": {
    "id": "yBfTWOfOPLJ4"
   },
   "outputs": [],
   "source": [
    "# fix random seed for reproducibility\n",
    "np.random.seed(7)"
   ]
  },
  {
   "cell_type": "markdown",
   "metadata": {
    "id": "0pgCJ43ETiY4"
   },
   "source": [
    "# **Step 1.3 : Creating a dataframe for storing the Closing stock data per day**"
   ]
  },
  {
   "cell_type": "code",
   "execution_count": 44,
   "metadata": {
    "id": "E_t86RrNPPp1"
   },
   "outputs": [],
   "source": [
    "# convert an array of values into a dataset matrix\n",
    "def create_dataset(df2, look_back=1):\n",
    "\tdataX, dataY = [], []\n",
    "\tfor i in range(len(df2)-look_back-1):\n",
    "\t\ta = df2[i:(i+look_back), 0]\n",
    "\t\tdataX.append(a)\n",
    "\t\tdataY.append(df2[i + look_back, 0])\n",
    "\treturn np.array(dataX), np.array(dataY)"
   ]
  },
  {
   "cell_type": "code",
   "execution_count": 45,
   "metadata": {
    "id": "RY7MxhH4PmLc"
   },
   "outputs": [],
   "source": [
    "df2 = pd.read_csv('WIPRO.NS.csv', usecols=[5], engine='python')\n",
    "df2.dropna(inplace=True)\n",
    "df2 = df2.values\n",
    "df2 = df2.astype('float32')"
   ]
  },
  {
   "cell_type": "markdown",
   "metadata": {
    "id": "4RyRIOKRTyGR"
   },
   "source": [
    "# **Step 1.4: Data Normalization and Division into Training and Test sets**"
   ]
  },
  {
   "cell_type": "code",
   "execution_count": 46,
   "metadata": {
    "id": "Z6QPEMVxP0nF"
   },
   "outputs": [],
   "source": [
    "# normalize the dataset\n",
    "scaler = MinMaxScaler(feature_range=(0, 1))\n",
    "df2 = scaler.fit_transform(df2)\n",
    "\n",
    "# split into train and test sets\n",
    "train_size = int(len(df2) * 0.67)\n",
    "test_size = len(df2) - train_size\n",
    "train, test = df2[0:train_size,:], df2[train_size:len(df2),:]"
   ]
  },
  {
   "cell_type": "code",
   "execution_count": 47,
   "metadata": {
    "id": "tSDPDwtDYnO7"
   },
   "outputs": [],
   "source": [
    "# reshape into X=t and Y=t+1\n",
    "look_back = 2\n",
    "trainX, trainY = create_dataset(train, look_back)\n",
    "testX, testY = create_dataset(test, look_back)\n",
    "# reshape input to be [samples, time steps, features]\n",
    "trainX = np.reshape(trainX, (trainX.shape[0], trainX.shape[1], 1))\n",
    "testX = np.reshape(testX, (testX.shape[0], testX.shape[1], 1))"
   ]
  },
  {
   "cell_type": "markdown",
   "metadata": {
    "id": "K2kJ2ucYUMnW"
   },
   "source": [
    "# **Step 1.5 : Creating a LSTM Neural Network Model for Numerical Analysis**"
   ]
  },
  {
   "cell_type": "code",
   "execution_count": 48,
   "metadata": {
    "colab": {
     "base_uri": "https://localhost:8080/"
    },
    "id": "6sm0nTlBYs9R",
    "outputId": "cb7ddb15-0d8e-4765-c8a0-0dfd160c5e04"
   },
   "outputs": [
    {
     "name": "stdout",
     "output_type": "stream",
     "text": [
      "Epoch 1/100\n",
      "33/33 - 4s - loss: 0.4963 - 4s/epoch - 114ms/step\n",
      "Epoch 2/100\n",
      "33/33 - 0s - loss: 0.3695 - 138ms/epoch - 4ms/step\n",
      "Epoch 3/100\n",
      "33/33 - 0s - loss: 0.2591 - 120ms/epoch - 4ms/step\n",
      "Epoch 4/100\n",
      "33/33 - 0s - loss: 0.1576 - 122ms/epoch - 4ms/step\n",
      "Epoch 5/100\n",
      "33/33 - 0s - loss: 0.0738 - 129ms/epoch - 4ms/step\n",
      "Epoch 6/100\n",
      "33/33 - 0s - loss: 0.0257 - 201ms/epoch - 6ms/step\n",
      "Epoch 7/100\n",
      "33/33 - 0s - loss: 0.0136 - 180ms/epoch - 5ms/step\n",
      "Epoch 8/100\n",
      "33/33 - 0s - loss: 0.0119 - 210ms/epoch - 6ms/step\n",
      "Epoch 9/100\n",
      "33/33 - 0s - loss: 0.0115 - 217ms/epoch - 7ms/step\n",
      "Epoch 10/100\n",
      "33/33 - 0s - loss: 0.0111 - 92ms/epoch - 3ms/step\n",
      "Epoch 11/100\n",
      "33/33 - 0s - loss: 0.0107 - 219ms/epoch - 7ms/step\n",
      "Epoch 12/100\n",
      "33/33 - 0s - loss: 0.0103 - 200ms/epoch - 6ms/step\n",
      "Epoch 13/100\n",
      "33/33 - 0s - loss: 0.0099 - 228ms/epoch - 7ms/step\n",
      "Epoch 14/100\n",
      "33/33 - 0s - loss: 0.0095 - 116ms/epoch - 4ms/step\n",
      "Epoch 15/100\n",
      "33/33 - 0s - loss: 0.0092 - 229ms/epoch - 7ms/step\n",
      "Epoch 16/100\n",
      "33/33 - 0s - loss: 0.0087 - 242ms/epoch - 7ms/step\n",
      "Epoch 17/100\n",
      "33/33 - 0s - loss: 0.0082 - 240ms/epoch - 7ms/step\n",
      "Epoch 18/100\n",
      "33/33 - 0s - loss: 0.0078 - 241ms/epoch - 7ms/step\n",
      "Epoch 19/100\n",
      "33/33 - 0s - loss: 0.0073 - 250ms/epoch - 8ms/step\n",
      "Epoch 20/100\n",
      "33/33 - 0s - loss: 0.0069 - 249ms/epoch - 8ms/step\n",
      "Epoch 21/100\n",
      "33/33 - 0s - loss: 0.0066 - 258ms/epoch - 8ms/step\n",
      "Epoch 22/100\n",
      "33/33 - 0s - loss: 0.0062 - 255ms/epoch - 8ms/step\n",
      "Epoch 23/100\n",
      "33/33 - 0s - loss: 0.0058 - 265ms/epoch - 8ms/step\n",
      "Epoch 24/100\n",
      "33/33 - 0s - loss: 0.0054 - 255ms/epoch - 8ms/step\n",
      "Epoch 25/100\n",
      "33/33 - 0s - loss: 0.0050 - 242ms/epoch - 7ms/step\n",
      "Epoch 26/100\n",
      "33/33 - 0s - loss: 0.0047 - 218ms/epoch - 7ms/step\n",
      "Epoch 27/100\n",
      "33/33 - 0s - loss: 0.0043 - 101ms/epoch - 3ms/step\n",
      "Epoch 28/100\n",
      "33/33 - 0s - loss: 0.0040 - 265ms/epoch - 8ms/step\n",
      "Epoch 29/100\n",
      "33/33 - 0s - loss: 0.0037 - 278ms/epoch - 8ms/step\n",
      "Epoch 30/100\n",
      "33/33 - 0s - loss: 0.0034 - 260ms/epoch - 8ms/step\n",
      "Epoch 31/100\n",
      "33/33 - 0s - loss: 0.0032 - 246ms/epoch - 7ms/step\n",
      "Epoch 32/100\n",
      "33/33 - 0s - loss: 0.0030 - 259ms/epoch - 8ms/step\n",
      "Epoch 33/100\n",
      "33/33 - 0s - loss: 0.0028 - 243ms/epoch - 7ms/step\n",
      "Epoch 34/100\n",
      "33/33 - 0s - loss: 0.0026 - 238ms/epoch - 7ms/step\n",
      "Epoch 35/100\n",
      "33/33 - 0s - loss: 0.0024 - 239ms/epoch - 7ms/step\n",
      "Epoch 36/100\n",
      "33/33 - 0s - loss: 0.0023 - 249ms/epoch - 8ms/step\n",
      "Epoch 37/100\n",
      "33/33 - 0s - loss: 0.0022 - 261ms/epoch - 8ms/step\n",
      "Epoch 38/100\n",
      "33/33 - 0s - loss: 0.0021 - 246ms/epoch - 7ms/step\n",
      "Epoch 39/100\n",
      "33/33 - 0s - loss: 0.0020 - 249ms/epoch - 8ms/step\n",
      "Epoch 40/100\n",
      "33/33 - 0s - loss: 0.0019 - 280ms/epoch - 8ms/step\n",
      "Epoch 41/100\n",
      "33/33 - 0s - loss: 0.0018 - 269ms/epoch - 8ms/step\n",
      "Epoch 42/100\n",
      "33/33 - 0s - loss: 0.0018 - 180ms/epoch - 5ms/step\n",
      "Epoch 43/100\n",
      "33/33 - 0s - loss: 0.0017 - 156ms/epoch - 5ms/step\n",
      "Epoch 44/100\n",
      "33/33 - 0s - loss: 0.0017 - 148ms/epoch - 4ms/step\n",
      "Epoch 45/100\n",
      "33/33 - 0s - loss: 0.0017 - 99ms/epoch - 3ms/step\n",
      "Epoch 46/100\n",
      "33/33 - 0s - loss: 0.0017 - 173ms/epoch - 5ms/step\n",
      "Epoch 47/100\n",
      "33/33 - 0s - loss: 0.0017 - 163ms/epoch - 5ms/step\n",
      "Epoch 48/100\n",
      "33/33 - 0s - loss: 0.0016 - 175ms/epoch - 5ms/step\n",
      "Epoch 49/100\n",
      "33/33 - 0s - loss: 0.0016 - 146ms/epoch - 4ms/step\n",
      "Epoch 50/100\n",
      "33/33 - 0s - loss: 0.0017 - 158ms/epoch - 5ms/step\n",
      "Epoch 51/100\n",
      "33/33 - 0s - loss: 0.0016 - 163ms/epoch - 5ms/step\n",
      "Epoch 52/100\n",
      "33/33 - 0s - loss: 0.0016 - 249ms/epoch - 8ms/step\n",
      "Epoch 53/100\n",
      "33/33 - 0s - loss: 0.0016 - 252ms/epoch - 8ms/step\n",
      "Epoch 54/100\n",
      "33/33 - 0s - loss: 0.0016 - 246ms/epoch - 7ms/step\n",
      "Epoch 55/100\n",
      "33/33 - 0s - loss: 0.0016 - 222ms/epoch - 7ms/step\n",
      "Epoch 56/100\n",
      "33/33 - 0s - loss: 0.0016 - 207ms/epoch - 6ms/step\n",
      "Epoch 57/100\n",
      "33/33 - 0s - loss: 0.0016 - 246ms/epoch - 7ms/step\n",
      "Epoch 58/100\n",
      "33/33 - 0s - loss: 0.0017 - 222ms/epoch - 7ms/step\n",
      "Epoch 59/100\n",
      "33/33 - 0s - loss: 0.0016 - 229ms/epoch - 7ms/step\n",
      "Epoch 60/100\n",
      "33/33 - 0s - loss: 0.0016 - 238ms/epoch - 7ms/step\n",
      "Epoch 61/100\n",
      "33/33 - 0s - loss: 0.0017 - 248ms/epoch - 8ms/step\n",
      "Epoch 62/100\n",
      "33/33 - 0s - loss: 0.0016 - 240ms/epoch - 7ms/step\n",
      "Epoch 63/100\n",
      "33/33 - 0s - loss: 0.0017 - 277ms/epoch - 8ms/step\n",
      "Epoch 64/100\n",
      "33/33 - 0s - loss: 0.0016 - 249ms/epoch - 8ms/step\n",
      "Epoch 65/100\n",
      "33/33 - 0s - loss: 0.0016 - 257ms/epoch - 8ms/step\n",
      "Epoch 66/100\n",
      "33/33 - 0s - loss: 0.0016 - 231ms/epoch - 7ms/step\n",
      "Epoch 67/100\n",
      "33/33 - 0s - loss: 0.0016 - 239ms/epoch - 7ms/step\n",
      "Epoch 68/100\n",
      "33/33 - 0s - loss: 0.0016 - 231ms/epoch - 7ms/step\n",
      "Epoch 69/100\n",
      "33/33 - 0s - loss: 0.0016 - 234ms/epoch - 7ms/step\n",
      "Epoch 70/100\n",
      "33/33 - 0s - loss: 0.0016 - 253ms/epoch - 8ms/step\n",
      "Epoch 71/100\n",
      "33/33 - 0s - loss: 0.0016 - 279ms/epoch - 8ms/step\n",
      "Epoch 72/100\n",
      "33/33 - 0s - loss: 0.0016 - 153ms/epoch - 5ms/step\n",
      "Epoch 73/100\n",
      "33/33 - 0s - loss: 0.0017 - 151ms/epoch - 5ms/step\n",
      "Epoch 74/100\n",
      "33/33 - 0s - loss: 0.0016 - 152ms/epoch - 5ms/step\n",
      "Epoch 75/100\n",
      "33/33 - 0s - loss: 0.0016 - 131ms/epoch - 4ms/step\n",
      "Epoch 76/100\n",
      "33/33 - 0s - loss: 0.0016 - 102ms/epoch - 3ms/step\n",
      "Epoch 77/100\n",
      "33/33 - 0s - loss: 0.0016 - 280ms/epoch - 8ms/step\n",
      "Epoch 78/100\n",
      "33/33 - 0s - loss: 0.0016 - 239ms/epoch - 7ms/step\n",
      "Epoch 79/100\n",
      "33/33 - 0s - loss: 0.0016 - 236ms/epoch - 7ms/step\n",
      "Epoch 80/100\n",
      "33/33 - 0s - loss: 0.0016 - 261ms/epoch - 8ms/step\n",
      "Epoch 81/100\n",
      "33/33 - 0s - loss: 0.0016 - 240ms/epoch - 7ms/step\n",
      "Epoch 82/100\n",
      "33/33 - 0s - loss: 0.0016 - 265ms/epoch - 8ms/step\n",
      "Epoch 83/100\n",
      "33/33 - 0s - loss: 0.0016 - 249ms/epoch - 8ms/step\n",
      "Epoch 84/100\n",
      "33/33 - 0s - loss: 0.0016 - 262ms/epoch - 8ms/step\n",
      "Epoch 85/100\n",
      "33/33 - 0s - loss: 0.0017 - 254ms/epoch - 8ms/step\n",
      "Epoch 86/100\n",
      "33/33 - 0s - loss: 0.0016 - 257ms/epoch - 8ms/step\n",
      "Epoch 87/100\n",
      "33/33 - 0s - loss: 0.0016 - 242ms/epoch - 7ms/step\n",
      "Epoch 88/100\n",
      "33/33 - 0s - loss: 0.0017 - 280ms/epoch - 8ms/step\n",
      "Epoch 89/100\n",
      "33/33 - 0s - loss: 0.0016 - 201ms/epoch - 6ms/step\n",
      "Epoch 90/100\n",
      "33/33 - 0s - loss: 0.0016 - 117ms/epoch - 4ms/step\n",
      "Epoch 91/100\n",
      "33/33 - 0s - loss: 0.0016 - 188ms/epoch - 6ms/step\n",
      "Epoch 92/100\n",
      "33/33 - 0s - loss: 0.0016 - 211ms/epoch - 6ms/step\n",
      "Epoch 93/100\n",
      "33/33 - 0s - loss: 0.0016 - 199ms/epoch - 6ms/step\n",
      "Epoch 94/100\n",
      "33/33 - 0s - loss: 0.0016 - 210ms/epoch - 6ms/step\n",
      "Epoch 95/100\n",
      "33/33 - 0s - loss: 0.0016 - 223ms/epoch - 7ms/step\n",
      "Epoch 96/100\n",
      "33/33 - 0s - loss: 0.0016 - 226ms/epoch - 7ms/step\n",
      "Epoch 97/100\n",
      "33/33 - 0s - loss: 0.0016 - 220ms/epoch - 7ms/step\n",
      "Epoch 98/100\n",
      "33/33 - 0s - loss: 0.0016 - 130ms/epoch - 4ms/step\n",
      "Epoch 99/100\n",
      "33/33 - 0s - loss: 0.0016 - 142ms/epoch - 4ms/step\n",
      "Epoch 100/100\n",
      "33/33 - 0s - loss: 0.0016 - 132ms/epoch - 4ms/step\n"
     ]
    },
    {
     "data": {
      "text/plain": [
       "<keras.callbacks.History at 0x1b38b6e3c70>"
      ]
     },
     "execution_count": 48,
     "metadata": {},
     "output_type": "execute_result"
    }
   ],
   "source": [
    "# create and fit the LSTM network\n",
    "model = Sequential()\n",
    "model.add(LSTM(7, input_shape=(look_back, 1)))\n",
    "model.add(Dense(1))\n",
    "model.compile(loss='mean_squared_error', optimizer='adam')\n",
    "model.fit(trainX, trainY, epochs=100, batch_size=5, verbose=2)"
   ]
  },
  {
   "cell_type": "markdown",
   "metadata": {
    "id": "qPRj_im5UcQv"
   },
   "source": [
    "# **Step 1.6 : Making Predictions of the Model**"
   ]
  },
  {
   "cell_type": "code",
   "execution_count": 49,
   "metadata": {
    "id": "B3ihPZIDY7cw"
   },
   "outputs": [
    {
     "name": "stdout",
     "output_type": "stream",
     "text": [
      "6/6 [==============================] - 1s 2ms/step\n",
      "3/3 [==============================] - 0s 8ms/step\n"
     ]
    }
   ],
   "source": [
    "# make predictions\n",
    "trainPredict = model.predict(trainX)\n",
    "testPredict = model.predict(testX)\n",
    "# invert predictions\n",
    "trainPredict = scaler.inverse_transform(trainPredict)\n",
    "trainY = scaler.inverse_transform([trainY])\n",
    "testPredict = scaler.inverse_transform(testPredict)\n",
    "testY = scaler.inverse_transform([testY])"
   ]
  },
  {
   "cell_type": "code",
   "execution_count": 50,
   "metadata": {
    "colab": {
     "base_uri": "https://localhost:8080/",
     "height": 295
    },
    "id": "A74E6l2fZgIx",
    "outputId": "b9fe85e5-5da8-4950-e303-28d5bbe5e3e3"
   },
   "outputs": [
    {
     "data": {
      "image/png": "[encoded data removed]",
      "text/plain": [
       "<Figure size 432x288 with 1 Axes>"
      ]
     },
     "metadata": {
      "needs_background": "light"
     },
     "output_type": "display_data"
    }
   ],
   "source": [
    "# shift train predictions for plotting\n",
    "trainPredictPlot = np.empty_like(df2)\n",
    "trainPredictPlot[:, :] = np.nan\n",
    "trainPredictPlot[look_back:len(trainPredict)+look_back, :] = trainPredict\n",
    "# shift test predictions for plotting\n",
    "testPredictPlot = np.empty_like(df2)\n",
    "testPredictPlot[:, :] = np.nan\n",
    "testPredictPlot[len(trainPredict)+(look_back*2)+1:len(df2)-1, :] = testPredict\n",
    "# plot baseline and predictions\n",
    "plt.plot(scaler.inverse_transform(df2), label = 'Actual Data')\n",
    "plt.title('TCS Stock Price Prediction from last 17 years Data')\n",
    "plt.xlabel('Time')\n",
    "plt.ylabel('Actual Stock Price')\n",
    "plt.plot(trainPredictPlot,color='#DE3163', label = 'Train Predicted Data')\n",
    "plt.plot(testPredictPlot, color='#FFC300', label = 'Test Predicted Data')\n",
    "plt.legend(loc='best')\n",
    "plt.show()"
   ]
  },
  {
   "cell_type": "code",
   "execution_count": 51,
   "metadata": {
    "colab": {
     "base_uri": "https://localhost:8080/"
    },
    "id": "0HexV7_hZqYi",
    "outputId": "d56219bf-3c89-437b-b57e-a48c5f675805"
   },
   "outputs": [
    {
     "name": "stdout",
     "output_type": "stream",
     "text": [
      "Root mean square error of Training  =  12.835663907473187  RMSE\n",
      "Root mean square error of Testing =  23.945972266988168  RMSE\n"
     ]
    }
   ],
   "source": [
    "# calculate root mean squared error\n",
    "trainScore = math.sqrt(mean_squared_error(trainY[0], trainPredict[:,0]))\n",
    "print(\"Root mean square error of Training  = \",trainScore,\" RMSE\")\n",
    "testScore = math.sqrt(mean_squared_error(testY[0], testPredict[:,0]))\n",
    "print(\"Root mean square error of Testing = \",testScore,\" RMSE\")\n"
   ]
  },
  {
   "cell_type": "markdown",
   "metadata": {
    "id": "6giCUCP0aeFV"
   },
   "source": [
    "# **Step 2: Textual Data(News Headlines) Analysis**"
   ]
  },
  {
   "cell_type": "markdown",
   "metadata": {
    "id": "w4E_FI83o-DV"
   },
   "source": [
    "# **Step 2.1:  Importing Required Libraries for Textual (News Headlines) analysis**"
   ]
  },
  {
   "cell_type": "code",
   "execution_count": 52,
   "metadata": {
    "id": "yY7Uz-KXaV2J"
   },
   "outputs": [],
   "source": [
    "import pandas as pd\n",
    "import numpy as np\n",
    "import matplotlib.pyplot as plt\n",
    "from textblob import TextBlob\n",
    "from datetime import datetime"
   ]
  },
  {
   "cell_type": "markdown",
   "metadata": {
    "id": "IyuMeBWep0MS"
   },
   "source": [
    "# **Step 2.2 : Importing the Textual dataset and performing Exploratory Analysis**"
   ]
  },
  {
   "cell_type": "code",
   "execution_count": 54,
   "metadata": {
    "colab": {
     "base_uri": "https://localhost:8080/",
     "height": 203
    },
    "id": "WiAm-dFpe5Ga",
    "outputId": "fc90a23d-05cd-45f1-b2d7-4027ff6bbbf0"
   },
   "outputs": [
    {
     "data": {
      "text/html": [
       "<div>\n",
       "<style scoped>\n",
       "    .dataframe tbody tr th:only-of-type {\n",
       "        vertical-align: middle;\n",
       "    }\n",
       "\n",
       "    .dataframe tbody tr th {\n",
       "        vertical-align: top;\n",
       "    }\n",
       "\n",
       "    .dataframe thead th {\n",
       "        text-align: right;\n",
       "    }\n",
       "</style>\n",
       "<table border=\"1\" class=\"dataframe\">\n",
       "  <thead>\n",
       "    <tr style=\"text-align: right;\">\n",
       "      <th></th>\n",
       "      <th>publish_date</th>\n",
       "      <th>headline_category</th>\n",
       "      <th>headline_text</th>\n",
       "    </tr>\n",
       "  </thead>\n",
       "  <tbody>\n",
       "    <tr>\n",
       "      <th>0</th>\n",
       "      <td>20010102</td>\n",
       "      <td>unknown</td>\n",
       "      <td>Status quo will not be disturbed at Ayodhya; s...</td>\n",
       "    </tr>\n",
       "    <tr>\n",
       "      <th>1</th>\n",
       "      <td>20010102</td>\n",
       "      <td>unknown</td>\n",
       "      <td>Fissures in Hurriyat over Pak visit</td>\n",
       "    </tr>\n",
       "    <tr>\n",
       "      <th>2</th>\n",
       "      <td>20010102</td>\n",
       "      <td>unknown</td>\n",
       "      <td>America's unwanted heading for India?</td>\n",
       "    </tr>\n",
       "    <tr>\n",
       "      <th>3</th>\n",
       "      <td>20010102</td>\n",
       "      <td>unknown</td>\n",
       "      <td>For bigwigs; it is destination Goa</td>\n",
       "    </tr>\n",
       "    <tr>\n",
       "      <th>4</th>\n",
       "      <td>20010102</td>\n",
       "      <td>unknown</td>\n",
       "      <td>Extra buses to clear tourist traffic</td>\n",
       "    </tr>\n",
       "  </tbody>\n",
       "</table>\n",
       "</div>"
      ],
      "text/plain": [
       "   publish_date headline_category  \\\n",
       "0      20010102           unknown   \n",
       "1      20010102           unknown   \n",
       "2      20010102           unknown   \n",
       "3      20010102           unknown   \n",
       "4      20010102           unknown   \n",
       "\n",
       "                                       headline_text  \n",
       "0  Status quo will not be disturbed at Ayodhya; s...  \n",
       "1                Fissures in Hurriyat over Pak visit  \n",
       "2              America's unwanted heading for India?  \n",
       "3                 For bigwigs; it is destination Goa  \n",
       "4               Extra buses to clear tourist traffic  "
      ]
     },
     "execution_count": 54,
     "metadata": {},
     "output_type": "execute_result"
    }
   ],
   "source": [
    "data = pd.read_csv('india-news-headlines.csv')\n",
    "data.head()"
   ]
  },
  {
   "cell_type": "code",
   "execution_count": 55,
   "metadata": {
    "colab": {
     "base_uri": "https://localhost:8080/"
    },
    "id": "yhMhYxbye6oP",
    "outputId": "3137f605-8c9e-4b75-dcbd-32b6244777a6"
   },
   "outputs": [
    {
     "data": {
      "text/plain": [
       "0          False\n",
       "1           True\n",
       "2           True\n",
       "3           True\n",
       "4           True\n",
       "           ...  \n",
       "3650965     True\n",
       "3650966     True\n",
       "3650967     True\n",
       "3650968     True\n",
       "3650969     True\n",
       "Name: publish_date, Length: 3650970, dtype: bool"
      ]
     },
     "execution_count": 55,
     "metadata": {},
     "output_type": "execute_result"
    }
   ],
   "source": [
    "data['publish_date'].duplicated()"
   ]
  },
  {
   "cell_type": "code",
   "execution_count": 56,
   "metadata": {
    "id": "1RBk5iyEj7hh"
   },
   "outputs": [],
   "source": [
    "data = data.drop_duplicates('publish_date', keep='first').sort_index()\n",
    "data= data.reset_index()"
   ]
  },
  {
   "cell_type": "code",
   "execution_count": 57,
   "metadata": {
    "colab": {
     "base_uri": "https://localhost:8080/",
     "height": 203
    },
    "id": "wi60qSDuFs2Z",
    "outputId": "c4846d4a-54cf-4c81-d65a-a840ca85fde7"
   },
   "outputs": [
    {
     "data": {
      "text/html": [
       "<div>\n",
       "<style scoped>\n",
       "    .dataframe tbody tr th:only-of-type {\n",
       "        vertical-align: middle;\n",
       "    }\n",
       "\n",
       "    .dataframe tbody tr th {\n",
       "        vertical-align: top;\n",
       "    }\n",
       "\n",
       "    .dataframe thead th {\n",
       "        text-align: right;\n",
       "    }\n",
       "</style>\n",
       "<table border=\"1\" class=\"dataframe\">\n",
       "  <thead>\n",
       "    <tr style=\"text-align: right;\">\n",
       "      <th></th>\n",
       "      <th>index</th>\n",
       "      <th>Date</th>\n",
       "      <th>headline_category</th>\n",
       "      <th>headline_text</th>\n",
       "    </tr>\n",
       "  </thead>\n",
       "  <tbody>\n",
       "    <tr>\n",
       "      <th>0</th>\n",
       "      <td>0</td>\n",
       "      <td>20010102</td>\n",
       "      <td>unknown</td>\n",
       "      <td>Status quo will not be disturbed at Ayodhya; s...</td>\n",
       "    </tr>\n",
       "    <tr>\n",
       "      <th>1</th>\n",
       "      <td>86</td>\n",
       "      <td>20010103</td>\n",
       "      <td>unknown</td>\n",
       "      <td>Powerless north India gropes in the dark</td>\n",
       "    </tr>\n",
       "    <tr>\n",
       "      <th>2</th>\n",
       "      <td>127</td>\n",
       "      <td>20010104</td>\n",
       "      <td>unknown</td>\n",
       "      <td>The string that pulled Stephen Hawking to India</td>\n",
       "    </tr>\n",
       "    <tr>\n",
       "      <th>3</th>\n",
       "      <td>280</td>\n",
       "      <td>20010105</td>\n",
       "      <td>unknown</td>\n",
       "      <td>Light combat craft takes India into club class</td>\n",
       "    </tr>\n",
       "    <tr>\n",
       "      <th>4</th>\n",
       "      <td>406</td>\n",
       "      <td>20010106</td>\n",
       "      <td>unknown</td>\n",
       "      <td>Light combat craft takes India into club class</td>\n",
       "    </tr>\n",
       "  </tbody>\n",
       "</table>\n",
       "</div>"
      ],
      "text/plain": [
       "   index      Date headline_category  \\\n",
       "0      0  20010102           unknown   \n",
       "1     86  20010103           unknown   \n",
       "2    127  20010104           unknown   \n",
       "3    280  20010105           unknown   \n",
       "4    406  20010106           unknown   \n",
       "\n",
       "                                       headline_text  \n",
       "0  Status quo will not be disturbed at Ayodhya; s...  \n",
       "1           Powerless north India gropes in the dark  \n",
       "2    The string that pulled Stephen Hawking to India  \n",
       "3     Light combat craft takes India into club class  \n",
       "4     Light combat craft takes India into club class  "
      ]
     },
     "execution_count": 57,
     "metadata": {},
     "output_type": "execute_result"
    }
   ],
   "source": [
    "data.rename(columns={'publish_date': 'Date'},inplace = True)\n",
    "data.head()"
   ]
  },
  {
   "cell_type": "code",
   "execution_count": 58,
   "metadata": {
    "colab": {
     "base_uri": "https://localhost:8080/"
    },
    "id": "zVlTo3KC5cy-",
    "outputId": "38b05672-5853-4ab7-ae91-142b6aea0b7c"
   },
   "outputs": [
    {
     "name": "stdout",
     "output_type": "stream",
     "text": [
      "<class 'pandas.core.frame.DataFrame'>\n",
      "RangeIndex: 7717 entries, 0 to 7716\n",
      "Data columns (total 4 columns):\n",
      " #   Column             Non-Null Count  Dtype \n",
      "---  ------             --------------  ----- \n",
      " 0   index              7717 non-null   int64 \n",
      " 1   Date               7717 non-null   int64 \n",
      " 2   headline_category  7717 non-null   object\n",
      " 3   headline_text      7717 non-null   object\n",
      "dtypes: int64(2), object(2)\n",
      "memory usage: 241.3+ KB\n"
     ]
    }
   ],
   "source": [
    "data.info()"
   ]
  },
  {
   "cell_type": "code",
   "execution_count": 59,
   "metadata": {
    "colab": {
     "base_uri": "https://localhost:8080/"
    },
    "id": "zmi6eou6IygT",
    "outputId": "aefc9ba6-4d02-4ac5-d9c1-866f6d71f3ee"
   },
   "outputs": [
    {
     "data": {
      "text/plain": [
       "unknown                                               987\n",
       "entertainment.hindi.bollywood                         732\n",
       "india                                                 343\n",
       "life-style.relationships.man-woman                    332\n",
       "edit-page                                             256\n",
       "                                                     ... \n",
       "assembly-elections-2013.mizoram-assembly-elections      1\n",
       "more-stories                                            1\n",
       "entertainment.bengali.movies.did-you-know               1\n",
       "city.ghaziabad                                          1\n",
       "young-india-votes.gallup-poll                           1\n",
       "Name: headline_category, Length: 330, dtype: int64"
      ]
     },
     "execution_count": 59,
     "metadata": {},
     "output_type": "execute_result"
    }
   ],
   "source": [
    "data['headline_category'].value_counts()"
   ]
  },
  {
   "cell_type": "code",
   "execution_count": 60,
   "metadata": {
    "colab": {
     "base_uri": "https://localhost:8080/",
     "height": 417
    },
    "id": "tmSUodIBKJxa",
    "outputId": "9177c367-7cae-4fbd-f261-552f75ecb891"
   },
   "outputs": [
    {
     "data": {
      "text/html": [
       "<div>\n",
       "<style scoped>\n",
       "    .dataframe tbody tr th:only-of-type {\n",
       "        vertical-align: middle;\n",
       "    }\n",
       "\n",
       "    .dataframe tbody tr th {\n",
       "        vertical-align: top;\n",
       "    }\n",
       "\n",
       "    .dataframe thead th {\n",
       "        text-align: right;\n",
       "    }\n",
       "</style>\n",
       "<table border=\"1\" class=\"dataframe\">\n",
       "  <thead>\n",
       "    <tr style=\"text-align: right;\">\n",
       "      <th></th>\n",
       "      <th>index</th>\n",
       "      <th>Date</th>\n",
       "      <th>headline_category</th>\n",
       "      <th>headline_text</th>\n",
       "    </tr>\n",
       "  </thead>\n",
       "  <tbody>\n",
       "    <tr>\n",
       "      <th>8</th>\n",
       "      <td>642</td>\n",
       "      <td>20010110</td>\n",
       "      <td>city.patna</td>\n",
       "      <td>Fend for yourselves; Pande tells doctors</td>\n",
       "    </tr>\n",
       "    <tr>\n",
       "      <th>48</th>\n",
       "      <td>2215</td>\n",
       "      <td>20010309</td>\n",
       "      <td>city.delhi</td>\n",
       "      <td>Maneka asks govt to take back land for cow she...</td>\n",
       "    </tr>\n",
       "    <tr>\n",
       "      <th>114</th>\n",
       "      <td>4563</td>\n",
       "      <td>20010522</td>\n",
       "      <td>city.pune</td>\n",
       "      <td>She turned and fought</td>\n",
       "    </tr>\n",
       "    <tr>\n",
       "      <th>116</th>\n",
       "      <td>4693</td>\n",
       "      <td>20010527</td>\n",
       "      <td>city.bengaluru</td>\n",
       "      <td>Need to boost exports; says bank head</td>\n",
       "    </tr>\n",
       "    <tr>\n",
       "      <th>118</th>\n",
       "      <td>4917</td>\n",
       "      <td>20010529</td>\n",
       "      <td>city.bengaluru</td>\n",
       "      <td>US visit won't be piece of cake for Krishna</td>\n",
       "    </tr>\n",
       "    <tr>\n",
       "      <th>...</th>\n",
       "      <td>...</td>\n",
       "      <td>...</td>\n",
       "      <td>...</td>\n",
       "      <td>...</td>\n",
       "    </tr>\n",
       "    <tr>\n",
       "      <th>7700</th>\n",
       "      <td>3642496</td>\n",
       "      <td>20220315</td>\n",
       "      <td>city.mumbai</td>\n",
       "      <td>Mumbaikars enjoy nightlife once more as restau...</td>\n",
       "    </tr>\n",
       "    <tr>\n",
       "      <th>7703</th>\n",
       "      <td>3643993</td>\n",
       "      <td>20220318</td>\n",
       "      <td>city.mumbai</td>\n",
       "      <td>Mumbai salons and spas deal with heavy demand ...</td>\n",
       "    </tr>\n",
       "    <tr>\n",
       "      <th>7707</th>\n",
       "      <td>3645983</td>\n",
       "      <td>20220322</td>\n",
       "      <td>city.patna</td>\n",
       "      <td>Sikta MLA pleads for police reform</td>\n",
       "    </tr>\n",
       "    <tr>\n",
       "      <th>7710</th>\n",
       "      <td>3647476</td>\n",
       "      <td>20220325</td>\n",
       "      <td>city.delhi</td>\n",
       "      <td>Speeding up; shortcuts and tackling unruly cus...</td>\n",
       "    </tr>\n",
       "    <tr>\n",
       "      <th>7711</th>\n",
       "      <td>3647974</td>\n",
       "      <td>20220326</td>\n",
       "      <td>city.mumbai</td>\n",
       "      <td>Mumbai celebrates World Theatre Day with speci...</td>\n",
       "    </tr>\n",
       "  </tbody>\n",
       "</table>\n",
       "<p>1417 rows × 4 columns</p>\n",
       "</div>"
      ],
      "text/plain": [
       "        index      Date headline_category  \\\n",
       "8         642  20010110        city.patna   \n",
       "48       2215  20010309        city.delhi   \n",
       "114      4563  20010522         city.pune   \n",
       "116      4693  20010527    city.bengaluru   \n",
       "118      4917  20010529    city.bengaluru   \n",
       "...       ...       ...               ...   \n",
       "7700  3642496  20220315       city.mumbai   \n",
       "7703  3643993  20220318       city.mumbai   \n",
       "7707  3645983  20220322        city.patna   \n",
       "7710  3647476  20220325        city.delhi   \n",
       "7711  3647974  20220326       city.mumbai   \n",
       "\n",
       "                                          headline_text  \n",
       "8              Fend for yourselves; Pande tells doctors  \n",
       "48    Maneka asks govt to take back land for cow she...  \n",
       "114                               She turned and fought  \n",
       "116               Need to boost exports; says bank head  \n",
       "118         US visit won't be piece of cake for Krishna  \n",
       "...                                                 ...  \n",
       "7700  Mumbaikars enjoy nightlife once more as restau...  \n",
       "7703  Mumbai salons and spas deal with heavy demand ...  \n",
       "7707                 Sikta MLA pleads for police reform  \n",
       "7710  Speeding up; shortcuts and tackling unruly cus...  \n",
       "7711  Mumbai celebrates World Theatre Day with speci...  \n",
       "\n",
       "[1417 rows x 4 columns]"
      ]
     },
     "execution_count": 60,
     "metadata": {},
     "output_type": "execute_result"
    }
   ],
   "source": [
    "city_data = data[data['headline_category'].str.contains('^city\\.[a-z]+$', regex=True)]\n",
    "city_data"
   ]
  },
  {
   "cell_type": "code",
   "execution_count": 61,
   "metadata": {
    "id": "9hW4UB5gKJup"
   },
   "outputs": [],
   "source": [
    "city_split = pd.DataFrame(columns=['city_name'])"
   ]
  },
  {
   "cell_type": "code",
   "execution_count": 62,
   "metadata": {
    "id": "XPswvNfcKJr5"
   },
   "outputs": [],
   "source": [
    "city_split['city_name'] = city_data.headline_category.str.split('.',expand=True)[1]"
   ]
  },
  {
   "cell_type": "code",
   "execution_count": 63,
   "metadata": {
    "id": "8c1RRQn2KJqU"
   },
   "outputs": [],
   "source": [
    "# concate the data set city_data and city_split\n",
    "city_data = pd.concat([city_data,city_split],axis=1)"
   ]
  },
  {
   "cell_type": "code",
   "execution_count": 64,
   "metadata": {
    "id": "PW2QpPIeKJmo"
   },
   "outputs": [],
   "source": [
    "# removing unnecessary column from dataset\n",
    "city_data.drop(columns=['headline_category'],axis=1, inplace=True)"
   ]
  },
  {
   "cell_type": "code",
   "execution_count": 65,
   "metadata": {
    "id": "lGMv8WHoKJkK"
   },
   "outputs": [],
   "source": [
    "# re-setting the index\n",
    "city_data.reset_index(inplace=True)"
   ]
  },
  {
   "cell_type": "code",
   "execution_count": 66,
   "metadata": {
    "colab": {
     "base_uri": "https://localhost:8080/",
     "height": 203
    },
    "id": "_5JVC3tbKJg_",
    "outputId": "8473aa01-d484-49fc-eaa4-1cfc7ed60fbf"
   },
   "outputs": [
    {
     "data": {
      "text/html": [
       "<div>\n",
       "<style scoped>\n",
       "    .dataframe tbody tr th:only-of-type {\n",
       "        vertical-align: middle;\n",
       "    }\n",
       "\n",
       "    .dataframe tbody tr th {\n",
       "        vertical-align: top;\n",
       "    }\n",
       "\n",
       "    .dataframe thead th {\n",
       "        text-align: right;\n",
       "    }\n",
       "</style>\n",
       "<table border=\"1\" class=\"dataframe\">\n",
       "  <thead>\n",
       "    <tr style=\"text-align: right;\">\n",
       "      <th></th>\n",
       "      <th>level_0</th>\n",
       "      <th>index</th>\n",
       "      <th>Date</th>\n",
       "      <th>headline_text</th>\n",
       "      <th>city_name</th>\n",
       "    </tr>\n",
       "  </thead>\n",
       "  <tbody>\n",
       "    <tr>\n",
       "      <th>0</th>\n",
       "      <td>8</td>\n",
       "      <td>642</td>\n",
       "      <td>20010110</td>\n",
       "      <td>Fend for yourselves; Pande tells doctors</td>\n",
       "      <td>patna</td>\n",
       "    </tr>\n",
       "    <tr>\n",
       "      <th>1</th>\n",
       "      <td>48</td>\n",
       "      <td>2215</td>\n",
       "      <td>20010309</td>\n",
       "      <td>Maneka asks govt to take back land for cow she...</td>\n",
       "      <td>delhi</td>\n",
       "    </tr>\n",
       "    <tr>\n",
       "      <th>2</th>\n",
       "      <td>114</td>\n",
       "      <td>4563</td>\n",
       "      <td>20010522</td>\n",
       "      <td>She turned and fought</td>\n",
       "      <td>pune</td>\n",
       "    </tr>\n",
       "    <tr>\n",
       "      <th>3</th>\n",
       "      <td>116</td>\n",
       "      <td>4693</td>\n",
       "      <td>20010527</td>\n",
       "      <td>Need to boost exports; says bank head</td>\n",
       "      <td>bengaluru</td>\n",
       "    </tr>\n",
       "    <tr>\n",
       "      <th>4</th>\n",
       "      <td>118</td>\n",
       "      <td>4917</td>\n",
       "      <td>20010529</td>\n",
       "      <td>US visit won't be piece of cake for Krishna</td>\n",
       "      <td>bengaluru</td>\n",
       "    </tr>\n",
       "  </tbody>\n",
       "</table>\n",
       "</div>"
      ],
      "text/plain": [
       "   level_0  index      Date  \\\n",
       "0        8    642  20010110   \n",
       "1       48   2215  20010309   \n",
       "2      114   4563  20010522   \n",
       "3      116   4693  20010527   \n",
       "4      118   4917  20010529   \n",
       "\n",
       "                                       headline_text  city_name  \n",
       "0           Fend for yourselves; Pande tells doctors      patna  \n",
       "1  Maneka asks govt to take back land for cow she...      delhi  \n",
       "2                              She turned and fought       pune  \n",
       "3              Need to boost exports; says bank head  bengaluru  \n",
       "4        US visit won't be piece of cake for Krishna  bengaluru  "
      ]
     },
     "execution_count": 66,
     "metadata": {},
     "output_type": "execute_result"
    }
   ],
   "source": [
    "# see the final data which contain city_name column\n",
    "city_data.head()"
   ]
  },
  {
   "cell_type": "code",
   "execution_count": 67,
   "metadata": {
    "colab": {
     "base_uri": "https://localhost:8080/",
     "height": 417
    },
    "id": "gFYVZf3BKEkb",
    "outputId": "a0329e07-cbcc-4e79-aa54-a921aec14543"
   },
   "outputs": [
    {
     "data": {
      "text/html": [
       "<div>\n",
       "<style scoped>\n",
       "    .dataframe tbody tr th:only-of-type {\n",
       "        vertical-align: middle;\n",
       "    }\n",
       "\n",
       "    .dataframe tbody tr th {\n",
       "        vertical-align: top;\n",
       "    }\n",
       "\n",
       "    .dataframe thead th {\n",
       "        text-align: right;\n",
       "    }\n",
       "</style>\n",
       "<table border=\"1\" class=\"dataframe\">\n",
       "  <thead>\n",
       "    <tr style=\"text-align: right;\">\n",
       "      <th></th>\n",
       "      <th>Date</th>\n",
       "      <th>headline_text</th>\n",
       "      <th>city_name</th>\n",
       "    </tr>\n",
       "  </thead>\n",
       "  <tbody>\n",
       "    <tr>\n",
       "      <th>0</th>\n",
       "      <td>20010110</td>\n",
       "      <td>Fend for yourselves; Pande tells doctors</td>\n",
       "      <td>patna</td>\n",
       "    </tr>\n",
       "    <tr>\n",
       "      <th>1</th>\n",
       "      <td>20010309</td>\n",
       "      <td>Maneka asks govt to take back land for cow she...</td>\n",
       "      <td>delhi</td>\n",
       "    </tr>\n",
       "    <tr>\n",
       "      <th>2</th>\n",
       "      <td>20010522</td>\n",
       "      <td>She turned and fought</td>\n",
       "      <td>pune</td>\n",
       "    </tr>\n",
       "    <tr>\n",
       "      <th>3</th>\n",
       "      <td>20010527</td>\n",
       "      <td>Need to boost exports; says bank head</td>\n",
       "      <td>bengaluru</td>\n",
       "    </tr>\n",
       "    <tr>\n",
       "      <th>4</th>\n",
       "      <td>20010529</td>\n",
       "      <td>US visit won't be piece of cake for Krishna</td>\n",
       "      <td>bengaluru</td>\n",
       "    </tr>\n",
       "    <tr>\n",
       "      <th>...</th>\n",
       "      <td>...</td>\n",
       "      <td>...</td>\n",
       "      <td>...</td>\n",
       "    </tr>\n",
       "    <tr>\n",
       "      <th>1412</th>\n",
       "      <td>20220315</td>\n",
       "      <td>Mumbaikars enjoy nightlife once more as restau...</td>\n",
       "      <td>mumbai</td>\n",
       "    </tr>\n",
       "    <tr>\n",
       "      <th>1413</th>\n",
       "      <td>20220318</td>\n",
       "      <td>Mumbai salons and spas deal with heavy demand ...</td>\n",
       "      <td>mumbai</td>\n",
       "    </tr>\n",
       "    <tr>\n",
       "      <th>1414</th>\n",
       "      <td>20220322</td>\n",
       "      <td>Sikta MLA pleads for police reform</td>\n",
       "      <td>patna</td>\n",
       "    </tr>\n",
       "    <tr>\n",
       "      <th>1415</th>\n",
       "      <td>20220325</td>\n",
       "      <td>Speeding up; shortcuts and tackling unruly cus...</td>\n",
       "      <td>delhi</td>\n",
       "    </tr>\n",
       "    <tr>\n",
       "      <th>1416</th>\n",
       "      <td>20220326</td>\n",
       "      <td>Mumbai celebrates World Theatre Day with speci...</td>\n",
       "      <td>mumbai</td>\n",
       "    </tr>\n",
       "  </tbody>\n",
       "</table>\n",
       "<p>1417 rows × 3 columns</p>\n",
       "</div>"
      ],
      "text/plain": [
       "          Date                                      headline_text  city_name\n",
       "0     20010110           Fend for yourselves; Pande tells doctors      patna\n",
       "1     20010309  Maneka asks govt to take back land for cow she...      delhi\n",
       "2     20010522                              She turned and fought       pune\n",
       "3     20010527              Need to boost exports; says bank head  bengaluru\n",
       "4     20010529        US visit won't be piece of cake for Krishna  bengaluru\n",
       "...        ...                                                ...        ...\n",
       "1412  20220315  Mumbaikars enjoy nightlife once more as restau...     mumbai\n",
       "1413  20220318  Mumbai salons and spas deal with heavy demand ...     mumbai\n",
       "1414  20220322                 Sikta MLA pleads for police reform      patna\n",
       "1415  20220325  Speeding up; shortcuts and tackling unruly cus...      delhi\n",
       "1416  20220326  Mumbai celebrates World Theatre Day with speci...     mumbai\n",
       "\n",
       "[1417 rows x 3 columns]"
      ]
     },
     "execution_count": 67,
     "metadata": {},
     "output_type": "execute_result"
    }
   ],
   "source": [
    "city_data.drop(['level_0', 'index'],axis=1)"
   ]
  },
  {
   "cell_type": "code",
   "execution_count": 68,
   "metadata": {
    "colab": {
     "base_uri": "https://localhost:8080/"
    },
    "id": "zQ3M6MHsKJen",
    "outputId": "fa0175d0-4fe0-4d59-98a8-109992ebe5c4"
   },
   "outputs": [
    {
     "data": {
      "text/plain": [
       "array(['patna', 'delhi', 'pune', 'bengaluru', 'ahmedabad', 'mumbai',\n",
       "       'thiruvananthapuram', 'kolkata', 'hyderabad', 'lucknow',\n",
       "       'chandigarh', 'goa', 'nagpur', 'guwahati', 'rajkot', 'bhubaneswar',\n",
       "       'surat', 'allahabad', 'varanasi', 'vadodara', 'mangaluru',\n",
       "       'ranchi', 'jaipur', 'ludhiana', 'mysuru', 'kanpur', 'thane',\n",
       "       'hubballi', 'kochi', 'navimumbai', 'gurgaon', 'indore', 'kolhapur',\n",
       "       'agartala', 'madurai', 'bareilly', 'aurangabad', 'meerut',\n",
       "       'visakhapatnam', 'trichy', 'coimbatore', 'jammu', 'dehradun',\n",
       "       'nashik', 'noida', 'puducherry', 'erode', 'chennai', 'jind',\n",
       "       'ghaziabad', 'bhopal', 'jamshedpur', 'vijayawada', 'agra',\n",
       "       'shimla', 'amritsar'], dtype=object)"
      ]
     },
     "execution_count": 68,
     "metadata": {},
     "output_type": "execute_result"
    }
   ],
   "source": [
    "# there are so many cities which we can see\n",
    "city_data.city_name.unique()"
   ]
  },
  {
   "cell_type": "markdown",
   "metadata": {
    "id": "Y6O4sKhrrjWd"
   },
   "source": [
    "# **Step 2.3: Representing number of headline text (News Headline) per city**"
   ]
  },
  {
   "cell_type": "code",
   "execution_count": 69,
   "metadata": {
    "id": "KKxzEFBOKJbv"
   },
   "outputs": [],
   "source": [
    "# create a group of cities and let's see which city have, how many no. of headine text\n",
    "city_headline = city_data.groupby(['city_name']).agg({'headline_text':'count'})"
   ]
  },
  {
   "cell_type": "code",
   "execution_count": 70,
   "metadata": {
    "id": "M3ElRbsXKJZH"
   },
   "outputs": [],
   "source": [
    "#for better understanding remane the column\n",
    "city_headline.rename(columns={'headline_text':'Number_of_headline_text'},inplace=True)"
   ]
  },
  {
   "cell_type": "code",
   "execution_count": 71,
   "metadata": {
    "colab": {
     "base_uri": "https://localhost:8080/",
     "height": 542
    },
    "id": "PRpYJloQKJV_",
    "outputId": "7147d5cf-0cad-4219-f5fe-bf03391e5bfe"
   },
   "outputs": [
    {
     "data": {
      "text/html": [
       "<div>\n",
       "<style scoped>\n",
       "    .dataframe tbody tr th:only-of-type {\n",
       "        vertical-align: middle;\n",
       "    }\n",
       "\n",
       "    .dataframe tbody tr th {\n",
       "        vertical-align: top;\n",
       "    }\n",
       "\n",
       "    .dataframe thead th {\n",
       "        text-align: right;\n",
       "    }\n",
       "</style>\n",
       "<table border=\"1\" class=\"dataframe\">\n",
       "  <thead>\n",
       "    <tr style=\"text-align: right;\">\n",
       "      <th></th>\n",
       "      <th>Number_of_headline_text</th>\n",
       "    </tr>\n",
       "    <tr>\n",
       "      <th>city_name</th>\n",
       "      <th></th>\n",
       "    </tr>\n",
       "  </thead>\n",
       "  <tbody>\n",
       "    <tr>\n",
       "      <th>bengaluru</th>\n",
       "      <td>113</td>\n",
       "    </tr>\n",
       "    <tr>\n",
       "      <th>mumbai</th>\n",
       "      <td>94</td>\n",
       "    </tr>\n",
       "    <tr>\n",
       "      <th>delhi</th>\n",
       "      <td>84</td>\n",
       "    </tr>\n",
       "    <tr>\n",
       "      <th>ahmedabad</th>\n",
       "      <td>83</td>\n",
       "    </tr>\n",
       "    <tr>\n",
       "      <th>pune</th>\n",
       "      <td>78</td>\n",
       "    </tr>\n",
       "    <tr>\n",
       "      <th>hyderabad</th>\n",
       "      <td>75</td>\n",
       "    </tr>\n",
       "    <tr>\n",
       "      <th>patna</th>\n",
       "      <td>73</td>\n",
       "    </tr>\n",
       "    <tr>\n",
       "      <th>chandigarh</th>\n",
       "      <td>59</td>\n",
       "    </tr>\n",
       "    <tr>\n",
       "      <th>goa</th>\n",
       "      <td>57</td>\n",
       "    </tr>\n",
       "    <tr>\n",
       "      <th>nagpur</th>\n",
       "      <td>55</td>\n",
       "    </tr>\n",
       "    <tr>\n",
       "      <th>kolkata</th>\n",
       "      <td>43</td>\n",
       "    </tr>\n",
       "    <tr>\n",
       "      <th>lucknow</th>\n",
       "      <td>43</td>\n",
       "    </tr>\n",
       "    <tr>\n",
       "      <th>thiruvananthapuram</th>\n",
       "      <td>42</td>\n",
       "    </tr>\n",
       "    <tr>\n",
       "      <th>madurai</th>\n",
       "      <td>35</td>\n",
       "    </tr>\n",
       "    <tr>\n",
       "      <th>trichy</th>\n",
       "      <td>33</td>\n",
       "    </tr>\n",
       "  </tbody>\n",
       "</table>\n",
       "</div>"
      ],
      "text/plain": [
       "                    Number_of_headline_text\n",
       "city_name                                  \n",
       "bengaluru                               113\n",
       "mumbai                                   94\n",
       "delhi                                    84\n",
       "ahmedabad                                83\n",
       "pune                                     78\n",
       "hyderabad                                75\n",
       "patna                                    73\n",
       "chandigarh                               59\n",
       "goa                                      57\n",
       "nagpur                                   55\n",
       "kolkata                                  43\n",
       "lucknow                                  43\n",
       "thiruvananthapuram                       42\n",
       "madurai                                  35\n",
       "trichy                                   33"
      ]
     },
     "execution_count": 71,
     "metadata": {},
     "output_type": "execute_result"
    }
   ],
   "source": [
    "# finding the top 15 cities which have high number of headlines text\n",
    "city_headline = city_headline.sort_values(by='Number_of_headline_text',ascending=False)\n",
    "top_15_headline_city = city_headline.head(15)\n",
    "top_15_headline_city"
   ]
  },
  {
   "cell_type": "code",
   "execution_count": 72,
   "metadata": {
    "colab": {
     "base_uri": "https://localhost:8080/",
     "height": 519
    },
    "id": "8fWCam4zKJRn",
    "outputId": "d8f2e56a-c15b-4186-f27a-8ff21a1afe3c"
   },
   "outputs": [
    {
     "data": {
      "image/png": "[encoded data removed]",
      "text/plain": [
       "<Figure size 1152x432 with 1 Axes>"
      ]
     },
     "metadata": {
      "needs_background": "light"
     },
     "output_type": "display_data"
    }
   ],
   "source": [
    "# plotting a graph for better understanding for top 15 cities which have high no. of headline text\n",
    "\n",
    "plt.figure(figsize=(16,6))\n",
    "plt.bar(top_15_headline_city.index,height=top_15_headline_city['Number_of_headline_text'])\n",
    "plt.xticks(rotation = 45)\n",
    "plt.xlabel('City Name',fontsize=18)\n",
    "plt.ylabel('Number of recorded articles',fontsize=18)\n",
    "plt.title('Number of articles per city\\n',fontsize=24, fontweight='bold')\n",
    "plt.show()"
   ]
  },
  {
   "cell_type": "markdown",
   "metadata": {
    "id": "pmiiM3jAshuE"
   },
   "source": [
    "# **Step 2.4: Representing Number of News Headlines per year and per city**"
   ]
  },
  {
   "cell_type": "code",
   "execution_count": 73,
   "metadata": {
    "colab": {
     "base_uri": "https://localhost:8080/",
     "height": 203
    },
    "id": "8Ca_g-9NO2J7",
    "outputId": "c7aecc30-8447-409f-c91c-b66cea18468b"
   },
   "outputs": [
    {
     "data": {
      "text/html": [
       "<div>\n",
       "<style scoped>\n",
       "    .dataframe tbody tr th:only-of-type {\n",
       "        vertical-align: middle;\n",
       "    }\n",
       "\n",
       "    .dataframe tbody tr th {\n",
       "        vertical-align: top;\n",
       "    }\n",
       "\n",
       "    .dataframe thead th {\n",
       "        text-align: right;\n",
       "    }\n",
       "</style>\n",
       "<table border=\"1\" class=\"dataframe\">\n",
       "  <thead>\n",
       "    <tr style=\"text-align: right;\">\n",
       "      <th></th>\n",
       "      <th>level_0</th>\n",
       "      <th>index</th>\n",
       "      <th>Date</th>\n",
       "      <th>headline_text</th>\n",
       "      <th>city_name</th>\n",
       "    </tr>\n",
       "  </thead>\n",
       "  <tbody>\n",
       "    <tr>\n",
       "      <th>0</th>\n",
       "      <td>8</td>\n",
       "      <td>642</td>\n",
       "      <td>1970-01-01 00:00:00.020010110</td>\n",
       "      <td>Fend for yourselves; Pande tells doctors</td>\n",
       "      <td>patna</td>\n",
       "    </tr>\n",
       "    <tr>\n",
       "      <th>1</th>\n",
       "      <td>48</td>\n",
       "      <td>2215</td>\n",
       "      <td>1970-01-01 00:00:00.020010309</td>\n",
       "      <td>Maneka asks govt to take back land for cow she...</td>\n",
       "      <td>delhi</td>\n",
       "    </tr>\n",
       "    <tr>\n",
       "      <th>2</th>\n",
       "      <td>114</td>\n",
       "      <td>4563</td>\n",
       "      <td>1970-01-01 00:00:00.020010522</td>\n",
       "      <td>She turned and fought</td>\n",
       "      <td>pune</td>\n",
       "    </tr>\n",
       "    <tr>\n",
       "      <th>3</th>\n",
       "      <td>116</td>\n",
       "      <td>4693</td>\n",
       "      <td>1970-01-01 00:00:00.020010527</td>\n",
       "      <td>Need to boost exports; says bank head</td>\n",
       "      <td>bengaluru</td>\n",
       "    </tr>\n",
       "    <tr>\n",
       "      <th>4</th>\n",
       "      <td>118</td>\n",
       "      <td>4917</td>\n",
       "      <td>1970-01-01 00:00:00.020010529</td>\n",
       "      <td>US visit won't be piece of cake for Krishna</td>\n",
       "      <td>bengaluru</td>\n",
       "    </tr>\n",
       "  </tbody>\n",
       "</table>\n",
       "</div>"
      ],
      "text/plain": [
       "   level_0  index                          Date  \\\n",
       "0        8    642 1970-01-01 00:00:00.020010110   \n",
       "1       48   2215 1970-01-01 00:00:00.020010309   \n",
       "2      114   4563 1970-01-01 00:00:00.020010522   \n",
       "3      116   4693 1970-01-01 00:00:00.020010527   \n",
       "4      118   4917 1970-01-01 00:00:00.020010529   \n",
       "\n",
       "                                       headline_text  city_name  \n",
       "0           Fend for yourselves; Pande tells doctors      patna  \n",
       "1  Maneka asks govt to take back land for cow she...      delhi  \n",
       "2                              She turned and fought       pune  \n",
       "3              Need to boost exports; says bank head  bengaluru  \n",
       "4        US visit won't be piece of cake for Krishna  bengaluru  "
      ]
     },
     "execution_count": 73,
     "metadata": {},
     "output_type": "execute_result"
    }
   ],
   "source": [
    "city_data['Date'] = pd.to_datetime(city_data['Date'])\n",
    "city_data.head()"
   ]
  },
  {
   "cell_type": "code",
   "execution_count": 74,
   "metadata": {
    "id": "VhrqF1tyM5TE"
   },
   "outputs": [],
   "source": [
    "city_data['Year'] = city_data['Date'].apply(lambda x: (x.year))"
   ]
  },
  {
   "cell_type": "code",
   "execution_count": 75,
   "metadata": {
    "id": "qOYV18lZPEUT"
   },
   "outputs": [],
   "source": [
    "# dropping unnecessary columns\n",
    "city_data.drop(columns=['Date','index'],axis=1,inplace=True)"
   ]
  },
  {
   "cell_type": "code",
   "execution_count": 76,
   "metadata": {
    "colab": {
     "base_uri": "https://localhost:8080/",
     "height": 203
    },
    "id": "xJ91macGPPxr",
    "outputId": "18a629cf-298b-46ce-ac86-fcdc70f0390b"
   },
   "outputs": [
    {
     "data": {
      "text/html": [
       "<div>\n",
       "<style scoped>\n",
       "    .dataframe tbody tr th:only-of-type {\n",
       "        vertical-align: middle;\n",
       "    }\n",
       "\n",
       "    .dataframe tbody tr th {\n",
       "        vertical-align: top;\n",
       "    }\n",
       "\n",
       "    .dataframe thead th {\n",
       "        text-align: right;\n",
       "    }\n",
       "</style>\n",
       "<table border=\"1\" class=\"dataframe\">\n",
       "  <thead>\n",
       "    <tr style=\"text-align: right;\">\n",
       "      <th></th>\n",
       "      <th>level_0</th>\n",
       "      <th>headline_text</th>\n",
       "      <th>city_name</th>\n",
       "      <th>Year</th>\n",
       "    </tr>\n",
       "  </thead>\n",
       "  <tbody>\n",
       "    <tr>\n",
       "      <th>0</th>\n",
       "      <td>8</td>\n",
       "      <td>Fend for yourselves; Pande tells doctors</td>\n",
       "      <td>patna</td>\n",
       "      <td>1970</td>\n",
       "    </tr>\n",
       "    <tr>\n",
       "      <th>1</th>\n",
       "      <td>48</td>\n",
       "      <td>Maneka asks govt to take back land for cow she...</td>\n",
       "      <td>delhi</td>\n",
       "      <td>1970</td>\n",
       "    </tr>\n",
       "    <tr>\n",
       "      <th>2</th>\n",
       "      <td>114</td>\n",
       "      <td>She turned and fought</td>\n",
       "      <td>pune</td>\n",
       "      <td>1970</td>\n",
       "    </tr>\n",
       "    <tr>\n",
       "      <th>3</th>\n",
       "      <td>116</td>\n",
       "      <td>Need to boost exports; says bank head</td>\n",
       "      <td>bengaluru</td>\n",
       "      <td>1970</td>\n",
       "    </tr>\n",
       "    <tr>\n",
       "      <th>4</th>\n",
       "      <td>118</td>\n",
       "      <td>US visit won't be piece of cake for Krishna</td>\n",
       "      <td>bengaluru</td>\n",
       "      <td>1970</td>\n",
       "    </tr>\n",
       "  </tbody>\n",
       "</table>\n",
       "</div>"
      ],
      "text/plain": [
       "   level_0                                      headline_text  city_name  Year\n",
       "0        8           Fend for yourselves; Pande tells doctors      patna  1970\n",
       "1       48  Maneka asks govt to take back land for cow she...      delhi  1970\n",
       "2      114                              She turned and fought       pune  1970\n",
       "3      116              Need to boost exports; says bank head  bengaluru  1970\n",
       "4      118        US visit won't be piece of cake for Krishna  bengaluru  1970"
      ]
     },
     "execution_count": 76,
     "metadata": {},
     "output_type": "execute_result"
    }
   ],
   "source": [
    "# final result\n",
    "city_data.head()"
   ]
  },
  {
   "cell_type": "code",
   "execution_count": 77,
   "metadata": {
    "id": "lahUFfWtRvnJ"
   },
   "outputs": [],
   "source": [
    "city_data_2 = city_data.copy()\n",
    "city_data_2['Number_of_headline_text'] = 1"
   ]
  },
  {
   "cell_type": "code",
   "execution_count": 78,
   "metadata": {
    "id": "_93XmgQDR8Zb"
   },
   "outputs": [],
   "source": [
    "# dropping unwanted column\n",
    "city_data_2.drop(columns=['headline_text'],axis=1, inplace=True)"
   ]
  },
  {
   "cell_type": "code",
   "execution_count": 79,
   "metadata": {
    "colab": {
     "base_uri": "https://localhost:8080/",
     "height": 203
    },
    "id": "wy_iqQ9NSDWy",
    "outputId": "7c1a5992-9fc9-4a81-dd79-9b09e7ad776a"
   },
   "outputs": [
    {
     "data": {
      "text/html": [
       "<div>\n",
       "<style scoped>\n",
       "    .dataframe tbody tr th:only-of-type {\n",
       "        vertical-align: middle;\n",
       "    }\n",
       "\n",
       "    .dataframe tbody tr th {\n",
       "        vertical-align: top;\n",
       "    }\n",
       "\n",
       "    .dataframe thead th {\n",
       "        text-align: right;\n",
       "    }\n",
       "</style>\n",
       "<table border=\"1\" class=\"dataframe\">\n",
       "  <thead>\n",
       "    <tr style=\"text-align: right;\">\n",
       "      <th></th>\n",
       "      <th>level_0</th>\n",
       "      <th>city_name</th>\n",
       "      <th>Year</th>\n",
       "      <th>Number_of_headline_text</th>\n",
       "    </tr>\n",
       "  </thead>\n",
       "  <tbody>\n",
       "    <tr>\n",
       "      <th>0</th>\n",
       "      <td>8</td>\n",
       "      <td>patna</td>\n",
       "      <td>1970</td>\n",
       "      <td>1</td>\n",
       "    </tr>\n",
       "    <tr>\n",
       "      <th>1</th>\n",
       "      <td>48</td>\n",
       "      <td>delhi</td>\n",
       "      <td>1970</td>\n",
       "      <td>1</td>\n",
       "    </tr>\n",
       "    <tr>\n",
       "      <th>2</th>\n",
       "      <td>114</td>\n",
       "      <td>pune</td>\n",
       "      <td>1970</td>\n",
       "      <td>1</td>\n",
       "    </tr>\n",
       "    <tr>\n",
       "      <th>3</th>\n",
       "      <td>116</td>\n",
       "      <td>bengaluru</td>\n",
       "      <td>1970</td>\n",
       "      <td>1</td>\n",
       "    </tr>\n",
       "    <tr>\n",
       "      <th>4</th>\n",
       "      <td>118</td>\n",
       "      <td>bengaluru</td>\n",
       "      <td>1970</td>\n",
       "      <td>1</td>\n",
       "    </tr>\n",
       "  </tbody>\n",
       "</table>\n",
       "</div>"
      ],
      "text/plain": [
       "   level_0  city_name  Year  Number_of_headline_text\n",
       "0        8      patna  1970                        1\n",
       "1       48      delhi  1970                        1\n",
       "2      114       pune  1970                        1\n",
       "3      116  bengaluru  1970                        1\n",
       "4      118  bengaluru  1970                        1"
      ]
     },
     "execution_count": 79,
     "metadata": {},
     "output_type": "execute_result"
    }
   ],
   "source": [
    "city_data_2.head()"
   ]
  },
  {
   "cell_type": "code",
   "execution_count": 80,
   "metadata": {
    "colab": {
     "base_uri": "https://localhost:8080/",
     "height": 295
    },
    "id": "ZVOvjvFTSLHy",
    "outputId": "4cb0b812-4de2-48e6-fb4b-8bf35427656c"
   },
   "outputs": [
    {
     "data": {
      "text/html": [
       "<div>\n",
       "<style scoped>\n",
       "    .dataframe tbody tr th:only-of-type {\n",
       "        vertical-align: middle;\n",
       "    }\n",
       "\n",
       "    .dataframe tbody tr th {\n",
       "        vertical-align: top;\n",
       "    }\n",
       "\n",
       "    .dataframe thead th {\n",
       "        text-align: right;\n",
       "    }\n",
       "</style>\n",
       "<table border=\"1\" class=\"dataframe\">\n",
       "  <thead>\n",
       "    <tr style=\"text-align: right;\">\n",
       "      <th></th>\n",
       "      <th>Number_of_headline_text</th>\n",
       "    </tr>\n",
       "    <tr>\n",
       "      <th>city_name</th>\n",
       "      <th></th>\n",
       "    </tr>\n",
       "  </thead>\n",
       "  <tbody>\n",
       "    <tr>\n",
       "      <th>bengaluru</th>\n",
       "      <td>113</td>\n",
       "    </tr>\n",
       "    <tr>\n",
       "      <th>mumbai</th>\n",
       "      <td>94</td>\n",
       "    </tr>\n",
       "    <tr>\n",
       "      <th>delhi</th>\n",
       "      <td>84</td>\n",
       "    </tr>\n",
       "    <tr>\n",
       "      <th>ahmedabad</th>\n",
       "      <td>83</td>\n",
       "    </tr>\n",
       "    <tr>\n",
       "      <th>pune</th>\n",
       "      <td>78</td>\n",
       "    </tr>\n",
       "    <tr>\n",
       "      <th>hyderabad</th>\n",
       "      <td>75</td>\n",
       "    </tr>\n",
       "    <tr>\n",
       "      <th>patna</th>\n",
       "      <td>73</td>\n",
       "    </tr>\n",
       "  </tbody>\n",
       "</table>\n",
       "</div>"
      ],
      "text/plain": [
       "           Number_of_headline_text\n",
       "city_name                         \n",
       "bengaluru                      113\n",
       "mumbai                          94\n",
       "delhi                           84\n",
       "ahmedabad                       83\n",
       "pune                            78\n",
       "hyderabad                       75\n",
       "patna                           73"
      ]
     },
     "execution_count": 80,
     "metadata": {},
     "output_type": "execute_result"
    }
   ],
   "source": [
    "top_15_headline_city.head(7)"
   ]
  },
  {
   "cell_type": "code",
   "execution_count": 81,
   "metadata": {
    "id": "rl48RhMJSULb"
   },
   "outputs": [],
   "source": [
    "# creating new data_set for top 7 cities with year \n",
    "\n",
    "city_beng = city_data_2[city_data_2.city_name == 'bengaluru']\n",
    "city_del = city_data_2[city_data_2.city_name == 'delhi']\n",
    "city_ahme = city_data_2[city_data_2.city_name == 'ahmedabad']\n",
    "city_mum = city_data_2[city_data_2.city_name == 'mumbai']\n",
    "city_pune = city_data_2[city_data_2.city_name == 'pune']\n",
    "city_hyd = city_data_2[city_data_2.city_name == 'hyderabad']\n",
    "city_luck = city_data_2[city_data_2.city_name == 'luck']"
   ]
  },
  {
   "cell_type": "code",
   "execution_count": 82,
   "metadata": {
    "id": "d3uGhgnHT4Sc"
   },
   "outputs": [],
   "source": [
    "famous_cities = [city_beng, city_del, city_ahme, city_mum, city_pune, city_hyd, city_luck]\n",
    "data_famous_cities = pd.concat(famous_cities)"
   ]
  },
  {
   "cell_type": "code",
   "execution_count": 83,
   "metadata": {
    "id": "JcbbwUe_UObh"
   },
   "outputs": [],
   "source": [
    "# reset index numbers\n",
    "data_famous_cities.reset_index(inplace=True)"
   ]
  },
  {
   "cell_type": "code",
   "execution_count": 84,
   "metadata": {
    "colab": {
     "base_uri": "https://localhost:8080/",
     "height": 220
    },
    "id": "ttgJzM47USix",
    "outputId": "44f6d596-674d-4d26-9c6f-3659a2370f0c"
   },
   "outputs": [
    {
     "name": "stdout",
     "output_type": "stream",
     "text": [
      "(527, 5)\n"
     ]
    },
    {
     "data": {
      "text/html": [
       "<div>\n",
       "<style scoped>\n",
       "    .dataframe tbody tr th:only-of-type {\n",
       "        vertical-align: middle;\n",
       "    }\n",
       "\n",
       "    .dataframe tbody tr th {\n",
       "        vertical-align: top;\n",
       "    }\n",
       "\n",
       "    .dataframe thead th {\n",
       "        text-align: right;\n",
       "    }\n",
       "</style>\n",
       "<table border=\"1\" class=\"dataframe\">\n",
       "  <thead>\n",
       "    <tr style=\"text-align: right;\">\n",
       "      <th></th>\n",
       "      <th>index</th>\n",
       "      <th>level_0</th>\n",
       "      <th>city_name</th>\n",
       "      <th>Year</th>\n",
       "      <th>Number_of_headline_text</th>\n",
       "    </tr>\n",
       "  </thead>\n",
       "  <tbody>\n",
       "    <tr>\n",
       "      <th>0</th>\n",
       "      <td>3</td>\n",
       "      <td>116</td>\n",
       "      <td>bengaluru</td>\n",
       "      <td>1970</td>\n",
       "      <td>1</td>\n",
       "    </tr>\n",
       "    <tr>\n",
       "      <th>1</th>\n",
       "      <td>4</td>\n",
       "      <td>118</td>\n",
       "      <td>bengaluru</td>\n",
       "      <td>1970</td>\n",
       "      <td>1</td>\n",
       "    </tr>\n",
       "    <tr>\n",
       "      <th>2</th>\n",
       "      <td>5</td>\n",
       "      <td>119</td>\n",
       "      <td>bengaluru</td>\n",
       "      <td>1970</td>\n",
       "      <td>1</td>\n",
       "    </tr>\n",
       "    <tr>\n",
       "      <th>3</th>\n",
       "      <td>7</td>\n",
       "      <td>135</td>\n",
       "      <td>bengaluru</td>\n",
       "      <td>1970</td>\n",
       "      <td>1</td>\n",
       "    </tr>\n",
       "    <tr>\n",
       "      <th>4</th>\n",
       "      <td>10</td>\n",
       "      <td>138</td>\n",
       "      <td>bengaluru</td>\n",
       "      <td>1970</td>\n",
       "      <td>1</td>\n",
       "    </tr>\n",
       "  </tbody>\n",
       "</table>\n",
       "</div>"
      ],
      "text/plain": [
       "   index  level_0  city_name  Year  Number_of_headline_text\n",
       "0      3      116  bengaluru  1970                        1\n",
       "1      4      118  bengaluru  1970                        1\n",
       "2      5      119  bengaluru  1970                        1\n",
       "3      7      135  bengaluru  1970                        1\n",
       "4     10      138  bengaluru  1970                        1"
      ]
     },
     "execution_count": 84,
     "metadata": {},
     "output_type": "execute_result"
    }
   ],
   "source": [
    "# top 7 cities\n",
    "print(data_famous_cities.shape)\n",
    "data_famous_cities.head()"
   ]
  },
  {
   "cell_type": "code",
   "execution_count": 85,
   "metadata": {
    "colab": {
     "base_uri": "https://localhost:8080/",
     "height": 203
    },
    "id": "4q3G-jz-UY5p",
    "outputId": "f6b34c18-351e-4dc1-8913-96d0bd63584a"
   },
   "outputs": [
    {
     "data": {
      "text/html": [
       "<div>\n",
       "<style scoped>\n",
       "    .dataframe tbody tr th:only-of-type {\n",
       "        vertical-align: middle;\n",
       "    }\n",
       "\n",
       "    .dataframe tbody tr th {\n",
       "        vertical-align: top;\n",
       "    }\n",
       "\n",
       "    .dataframe thead th {\n",
       "        text-align: right;\n",
       "    }\n",
       "</style>\n",
       "<table border=\"1\" class=\"dataframe\">\n",
       "  <thead>\n",
       "    <tr style=\"text-align: right;\">\n",
       "      <th></th>\n",
       "      <th>index</th>\n",
       "      <th>city_name</th>\n",
       "      <th>Year</th>\n",
       "      <th>Number_of_headline_text</th>\n",
       "    </tr>\n",
       "  </thead>\n",
       "  <tbody>\n",
       "    <tr>\n",
       "      <th>0</th>\n",
       "      <td>3</td>\n",
       "      <td>bengaluru</td>\n",
       "      <td>1970</td>\n",
       "      <td>1</td>\n",
       "    </tr>\n",
       "    <tr>\n",
       "      <th>1</th>\n",
       "      <td>4</td>\n",
       "      <td>bengaluru</td>\n",
       "      <td>1970</td>\n",
       "      <td>1</td>\n",
       "    </tr>\n",
       "    <tr>\n",
       "      <th>2</th>\n",
       "      <td>5</td>\n",
       "      <td>bengaluru</td>\n",
       "      <td>1970</td>\n",
       "      <td>1</td>\n",
       "    </tr>\n",
       "    <tr>\n",
       "      <th>3</th>\n",
       "      <td>7</td>\n",
       "      <td>bengaluru</td>\n",
       "      <td>1970</td>\n",
       "      <td>1</td>\n",
       "    </tr>\n",
       "    <tr>\n",
       "      <th>4</th>\n",
       "      <td>10</td>\n",
       "      <td>bengaluru</td>\n",
       "      <td>1970</td>\n",
       "      <td>1</td>\n",
       "    </tr>\n",
       "  </tbody>\n",
       "</table>\n",
       "</div>"
      ],
      "text/plain": [
       "   index  city_name  Year  Number_of_headline_text\n",
       "0      3  bengaluru  1970                        1\n",
       "1      4  bengaluru  1970                        1\n",
       "2      5  bengaluru  1970                        1\n",
       "3      7  bengaluru  1970                        1\n",
       "4     10  bengaluru  1970                        1"
      ]
     },
     "execution_count": 85,
     "metadata": {},
     "output_type": "execute_result"
    }
   ],
   "source": [
    "data_famous_cities=data_famous_cities.drop(['level_0'],axis=1)\n",
    "data_famous_cities.head()"
   ]
  },
  {
   "cell_type": "code",
   "execution_count": 86,
   "metadata": {
    "id": "7xyQwKYFUv57"
   },
   "outputs": [],
   "source": [
    "# year-wise no. of headlines text\n",
    "city_year_count = pd.Series(city_data_2.groupby(['Year'])['Number_of_headline_text'].count())\n",
    "\n",
    "# year-wise data which shows which city have how many no. of headline text\n",
    "city_count = data_famous_cities.groupby(['Year', 'city_name']).sum()['Number_of_headline_text'].unstack()"
   ]
  },
  {
   "cell_type": "code",
   "execution_count": 87,
   "metadata": {
    "colab": {
     "base_uri": "https://localhost:8080/",
     "height": 234
    },
    "id": "RXiidW9FU-yy",
    "outputId": "93fae1f3-82d9-45bd-ef60-3de6e8c335c8"
   },
   "outputs": [
    {
     "data": {
      "text/html": [
       "<div>\n",
       "<style scoped>\n",
       "    .dataframe tbody tr th:only-of-type {\n",
       "        vertical-align: middle;\n",
       "    }\n",
       "\n",
       "    .dataframe tbody tr th {\n",
       "        vertical-align: top;\n",
       "    }\n",
       "\n",
       "    .dataframe thead th {\n",
       "        text-align: right;\n",
       "    }\n",
       "</style>\n",
       "<table border=\"1\" class=\"dataframe\">\n",
       "  <thead>\n",
       "    <tr style=\"text-align: right;\">\n",
       "      <th>city_name</th>\n",
       "      <th>ahmedabad</th>\n",
       "      <th>bengaluru</th>\n",
       "      <th>delhi</th>\n",
       "      <th>hyderabad</th>\n",
       "      <th>mumbai</th>\n",
       "      <th>pune</th>\n",
       "    </tr>\n",
       "    <tr>\n",
       "      <th>Year</th>\n",
       "      <th></th>\n",
       "      <th></th>\n",
       "      <th></th>\n",
       "      <th></th>\n",
       "      <th></th>\n",
       "      <th></th>\n",
       "    </tr>\n",
       "  </thead>\n",
       "  <tbody>\n",
       "    <tr>\n",
       "      <th>1970</th>\n",
       "      <td>83</td>\n",
       "      <td>113</td>\n",
       "      <td>84</td>\n",
       "      <td>75</td>\n",
       "      <td>94</td>\n",
       "      <td>78</td>\n",
       "    </tr>\n",
       "  </tbody>\n",
       "</table>\n",
       "</div>"
      ],
      "text/plain": [
       "city_name  ahmedabad  bengaluru  delhi  hyderabad  mumbai  pune\n",
       "Year                                                           \n",
       "1970              83        113     84         75      94    78"
      ]
     },
     "execution_count": 87,
     "metadata": {},
     "output_type": "execute_result"
    }
   ],
   "source": [
    "city_count.head()"
   ]
  },
  {
   "cell_type": "code",
   "execution_count": 88,
   "metadata": {
    "colab": {
     "base_uri": "https://localhost:8080/"
    },
    "id": "SvPVH8czVPVS",
    "outputId": "3e84652b-7799-448c-db9e-aff50db9d7f7"
   },
   "outputs": [
    {
     "data": {
      "text/plain": [
       "Year\n",
       "1970    1417\n",
       "Name: Number_of_headline_text, dtype: int64"
      ]
     },
     "execution_count": 88,
     "metadata": {},
     "output_type": "execute_result"
    }
   ],
   "source": [
    "city_year_count.head()"
   ]
  },
  {
   "cell_type": "code",
   "execution_count": 89,
   "metadata": {
    "colab": {
     "base_uri": "https://localhost:8080/",
     "height": 671
    },
    "id": "raqkinWoVag6",
    "outputId": "2ab47d8c-5b1a-475e-c0b8-21f21316d818"
   },
   "outputs": [
    {
     "data": {
      "image/png": "[encoded data removed]",
      "text/plain": [
       "<Figure size 1440x720 with 2 Axes>"
      ]
     },
     "metadata": {
      "needs_background": "light"
     },
     "output_type": "display_data"
    },
    {
     "data": {
      "text/plain": [
       "<Figure size 1440x720 with 0 Axes>"
      ]
     },
     "metadata": {},
     "output_type": "display_data"
    }
   ],
   "source": [
    "fig=plt.figure()\n",
    "\n",
    "a = fig.add_subplot(111,label=\"1\")\n",
    "b = fig.add_subplot(111,label=\"2\", frame_on = False)\n",
    "\n",
    "plt.figure(figsize=(20,10))\n",
    "city_year_count.plot(kind='bar',figsize=(20,10), ax=a,title=\"Number of articles per year and per city\\n\")\n",
    "a.set_ylabel('Number of Articles (Per city)')\n",
    "a.set_xlabel(\"\")\n",
    "\n",
    "city_count.plot(ax=b)\n",
    "b.set_xticks([])\n",
    "b.set_ylabel('Number of Articles (Per city)', size =16)\n",
    "b.yaxis.tick_right()\n",
    "b.set_xlabel('Year') \n",
    "\n",
    "a.get_yaxis().set_label_coords(-.05,0.5)\n",
    "b.get_yaxis().set_label_coords(1.05,0.5)\n",
    "b.get_xaxis().set_label_coords(0.5, -0.07)\n",
    "\n",
    "plt.show()"
   ]
  },
  {
   "cell_type": "markdown",
   "metadata": {
    "id": "T3IuuL0AWD8m"
   },
   "source": [
    "# **Step 2.5: Sentiment Analysis of News Headlines**"
   ]
  },
  {
   "cell_type": "code",
   "execution_count": 90,
   "metadata": {
    "id": "uRvPb7dfV4d6"
   },
   "outputs": [],
   "source": [
    "def getAnalysis_polarity(headline):\n",
    "    result = TextBlob(headline)\n",
    "    \n",
    "    if result.sentiment.polarity < 0:\n",
    "        return 'negative'\n",
    "    elif result.sentiment.polarity == 0:\n",
    "        return 'neutral'\n",
    "    else:\n",
    "        return 'positive'"
   ]
  },
  {
   "cell_type": "code",
   "execution_count": 91,
   "metadata": {
    "id": "eiuHcwcoWxx5"
   },
   "outputs": [],
   "source": [
    "data['Result'] = np.array([getAnalysis_polarity(headline) for headline in data['headline_text']])"
   ]
  },
  {
   "cell_type": "code",
   "execution_count": 92,
   "metadata": {
    "colab": {
     "base_uri": "https://localhost:8080/",
     "height": 172
    },
    "id": "Sywg96uKW2LZ",
    "outputId": "fb3180de-76c8-45e4-facc-a2257e32fe9a"
   },
   "outputs": [
    {
     "data": {
      "text/html": [
       "<div>\n",
       "<style scoped>\n",
       "    .dataframe tbody tr th:only-of-type {\n",
       "        vertical-align: middle;\n",
       "    }\n",
       "\n",
       "    .dataframe tbody tr th {\n",
       "        vertical-align: top;\n",
       "    }\n",
       "\n",
       "    .dataframe thead th {\n",
       "        text-align: right;\n",
       "    }\n",
       "</style>\n",
       "<table border=\"1\" class=\"dataframe\">\n",
       "  <thead>\n",
       "    <tr style=\"text-align: right;\">\n",
       "      <th></th>\n",
       "      <th>headline_text</th>\n",
       "    </tr>\n",
       "    <tr>\n",
       "      <th>Result</th>\n",
       "      <th></th>\n",
       "    </tr>\n",
       "  </thead>\n",
       "  <tbody>\n",
       "    <tr>\n",
       "      <th>negative</th>\n",
       "      <td>773</td>\n",
       "    </tr>\n",
       "    <tr>\n",
       "      <th>neutral</th>\n",
       "      <td>5113</td>\n",
       "    </tr>\n",
       "    <tr>\n",
       "      <th>positive</th>\n",
       "      <td>1831</td>\n",
       "    </tr>\n",
       "  </tbody>\n",
       "</table>\n",
       "</div>"
      ],
      "text/plain": [
       "          headline_text\n",
       "Result                 \n",
       "negative            773\n",
       "neutral            5113\n",
       "positive           1831"
      ]
     },
     "execution_count": 92,
     "metadata": {},
     "output_type": "execute_result"
    }
   ],
   "source": [
    "final_result = data.groupby(['Result']).agg({'headline_text':'count'})\n",
    "final_result"
   ]
  },
  {
   "cell_type": "code",
   "execution_count": 93,
   "metadata": {
    "colab": {
     "base_uri": "https://localhost:8080/"
    },
    "id": "ZRXDegJvW_Gk",
    "outputId": "38d91c06-5087-4a63-9157-9e97159132b4"
   },
   "outputs": [
    {
     "name": "stdout",
     "output_type": "stream",
     "text": [
      "Positive Headlines:  headline_text    23.726837\n",
      "Name: positive, dtype: float64\n",
      "\n",
      "\n",
      "Negative Headlines:  headline_text    10.016846\n",
      "Name: negative, dtype: float64\n",
      "\n",
      "\n",
      "Unbiased Headlines:  headline_text    66.256317\n",
      "Name: neutral, dtype: float64\n"
     ]
    }
   ],
   "source": [
    "negative = (final_result.loc['negative'] / len(data))*100\n",
    "neutral = (final_result.loc['neutral'] / len(data))*100\n",
    "positive = (final_result.loc['positive'] / len(data))*100\n",
    "\n",
    "\n",
    "print('Positive Headlines: ' , positive )\n",
    "print('\\n\\nNegative Headlines: ' ,negative )\n",
    "print('\\n\\nUnbiased Headlines: ' , str(neutral))"
   ]
  },
  {
   "cell_type": "code",
   "execution_count": 94,
   "metadata": {
    "colab": {
     "base_uri": "https://localhost:8080/",
     "height": 482
    },
    "id": "fBAzHckSXKDS",
    "outputId": "35c22987-8196-4b54-b9ba-dd86271fa6c0"
   },
   "outputs": [
    {
     "data": {
      "image/png": "[encoded data removed]",
      "text/plain": [
       "<Figure size 576x576 with 1 Axes>"
      ]
     },
     "metadata": {},
     "output_type": "display_data"
    }
   ],
   "source": [
    "plt.figure(figsize=(8,8))\n",
    "final_result['headline_text'].plot.pie(autopct='%1.1f%%')\n",
    "plt.title(\"Overall Sentiment Distribution Pie Chart\",fontweight=\"bold\")\n",
    "plt.show()"
   ]
  },
  {
   "cell_type": "markdown",
   "metadata": {
    "id": "DmjWO_sdX-9e"
   },
   "source": [
    "# **Step 3: Creating Hybrid model for stock price/performance prediction using numerical analysis of historical stock prices, and sentimental analysis of news headlines**"
   ]
  },
  {
   "cell_type": "markdown",
   "metadata": {
    "id": "uBUTGxg1yN9l"
   },
   "source": [
    "# **Step 3.1: Importing Required Libraries**"
   ]
  },
  {
   "cell_type": "code",
   "execution_count": 98,
   "metadata": {
    "colab": {
     "base_uri": "https://localhost:8080/"
    },
    "id": "uxBQLKepvzAC",
    "outputId": "c7cd9245-ac75-4660-b9cd-5ceb214e58c3"
   },
   "outputs": [
    {
     "name": "stdout",
     "output_type": "stream",
     "text": [
      "Defaulting to user installation because normal site-packages is not writeable\n",
      "Requirement already satisfied: vaderSentiment in c:\\users\\asus\\appdata\\roaming\\python\\python38\\site-packages (3.3.2)\n",
      "Requirement already satisfied: requests in c:\\program files\\anaconda3\\lib\\site-packages (from vaderSentiment) (2.25.1)\n",
      "Requirement already satisfied: idna<3,>=2.5 in c:\\program files\\anaconda3\\lib\\site-packages (from requests->vaderSentiment) (2.10)\n",
      "Requirement already satisfied: certifi>=2017.4.17 in c:\\program files\\anaconda3\\lib\\site-packages (from requests->vaderSentiment) (2020.12.5)\n",
      "Requirement already satisfied: chardet<5,>=3.0.2 in c:\\program files\\anaconda3\\lib\\site-packages (from requests->vaderSentiment) (4.0.0)\n",
      "Requirement already satisfied: urllib3<1.27,>=1.21.1 in c:\\program files\\anaconda3\\lib\\site-packages (from requests->vaderSentiment) (1.26.4)\n"
     ]
    }
   ],
   "source": [
    "!pip install vaderSentiment"
   ]
  },
  {
   "cell_type": "code",
   "execution_count": 101,
   "metadata": {
    "colab": {
     "base_uri": "https://localhost:8080/"
    },
    "id": "RQXh-3tPXvaB",
    "outputId": "800fb10c-665f-4370-9e44-76ad7c498dce"
   },
   "outputs": [
    {
     "ename": "ModuleNotFoundError",
     "evalue": "No module named 'sklearn.ensemble.forest'",
     "output_type": "error",
     "traceback": [
      "\u001b[1;31m---------------------------------------------------------------------------\u001b[0m",
      "\u001b[1;31mModuleNotFoundError\u001b[0m                       Traceback (most recent call last)",
      "\u001b[1;32m<ipython-input-101-c02713484408>\u001b[0m in \u001b[0;36m<module>\u001b[1;34m\u001b[0m\n\u001b[0;32m      3\u001b[0m \u001b[1;32mfrom\u001b[0m \u001b[0msklearn\u001b[0m\u001b[1;33m.\u001b[0m\u001b[0mmodel_selection\u001b[0m \u001b[1;32mimport\u001b[0m \u001b[0mtrain_test_split\u001b[0m\u001b[1;33m\u001b[0m\u001b[1;33m\u001b[0m\u001b[0m\n\u001b[0;32m      4\u001b[0m \u001b[1;32mfrom\u001b[0m \u001b[0msklearn\u001b[0m\u001b[1;33m.\u001b[0m\u001b[0mmetrics\u001b[0m \u001b[1;32mimport\u001b[0m \u001b[0maccuracy_score\u001b[0m\u001b[1;33m\u001b[0m\u001b[1;33m\u001b[0m\u001b[0m\n\u001b[1;32m----> 5\u001b[1;33m \u001b[1;32mfrom\u001b[0m \u001b[0msklearn\u001b[0m\u001b[1;33m.\u001b[0m\u001b[0mensemble\u001b[0m\u001b[1;33m.\u001b[0m\u001b[0mforest\u001b[0m \u001b[1;32mimport\u001b[0m \u001b[0mRandomForestClassifier\u001b[0m\u001b[1;33m\u001b[0m\u001b[1;33m\u001b[0m\u001b[0m\n\u001b[0m\u001b[0;32m      6\u001b[0m \u001b[1;32mfrom\u001b[0m \u001b[0msklearn\u001b[0m\u001b[1;33m.\u001b[0m\u001b[0mlinear_model\u001b[0m \u001b[1;32mimport\u001b[0m \u001b[0mLogisticRegression\u001b[0m\u001b[1;33m\u001b[0m\u001b[1;33m\u001b[0m\u001b[0m\n\u001b[0;32m      7\u001b[0m \u001b[1;32mfrom\u001b[0m \u001b[0msklearn\u001b[0m\u001b[1;33m.\u001b[0m\u001b[0mtree\u001b[0m \u001b[1;32mimport\u001b[0m \u001b[0mDecisionTreeClassifier\u001b[0m\u001b[1;33m\u001b[0m\u001b[1;33m\u001b[0m\u001b[0m\n",
      "\u001b[1;31mModuleNotFoundError\u001b[0m: No module named 'sklearn.ensemble.forest'"
     ]
    }
   ],
   "source": [
    "import re\n",
    "from vaderSentiment.vaderSentiment import SentimentIntensityAnalyzer\n",
    "from sklearn.model_selection import train_test_split\n",
    "from sklearn.metrics import accuracy_score\n",
    "from sklearn.ensemble.forest import RandomForestClassifier\n",
    "from sklearn.linear_model import LogisticRegression\n",
    "from sklearn.tree import DecisionTreeClassifier\n",
    "from sklearn.discriminant_analysis import LinearDiscriminantAnalysis\n",
    "from sklearn.ensemble import AdaBoostClassifier\n",
    "from sklearn.ensemble import GradientBoostingClassifier"
   ]
  },
  {
   "cell_type": "markdown",
   "metadata": {
    "id": "gsP9KCpRyemF"
   },
   "source": [
    "# **Step 3.2 : Importing the Numerical and Textual dataset**"
   ]
  },
  {
   "cell_type": "code",
   "execution_count": 58,
   "metadata": {
    "colab": {
     "base_uri": "https://localhost:8080/",
     "height": 203
    },
    "id": "L9bILBtIYDjp",
    "outputId": "06ff8d5d-b57c-472c-e1c0-ce64500a8460"
   },
   "outputs": [
    {
     "data": {
      "text/html": [
       "<div>\n",
       "<style scoped>\n",
       "    .dataframe tbody tr th:only-of-type {\n",
       "        vertical-align: middle;\n",
       "    }\n",
       "\n",
       "    .dataframe tbody tr th {\n",
       "        vertical-align: top;\n",
       "    }\n",
       "\n",
       "    .dataframe thead th {\n",
       "        text-align: right;\n",
       "    }\n",
       "</style>\n",
       "<table border=\"1\" class=\"dataframe\">\n",
       "  <thead>\n",
       "    <tr style=\"text-align: right;\">\n",
       "      <th></th>\n",
       "      <th>Date</th>\n",
       "      <th>Open</th>\n",
       "      <th>High</th>\n",
       "      <th>Low</th>\n",
       "      <th>Close</th>\n",
       "      <th>Adj Close</th>\n",
       "      <th>Volume</th>\n",
       "    </tr>\n",
       "  </thead>\n",
       "  <tbody>\n",
       "    <tr>\n",
       "      <th>0</th>\n",
       "      <td>01-01-2003</td>\n",
       "      <td>59.987499</td>\n",
       "      <td>61.974998</td>\n",
       "      <td>59.987499</td>\n",
       "      <td>61.087502</td>\n",
       "      <td>45.521038</td>\n",
       "      <td>6027072.0</td>\n",
       "    </tr>\n",
       "    <tr>\n",
       "      <th>1</th>\n",
       "      <td>02-01-2003</td>\n",
       "      <td>61.525002</td>\n",
       "      <td>62.924999</td>\n",
       "      <td>57.912498</td>\n",
       "      <td>58.299999</td>\n",
       "      <td>43.443855</td>\n",
       "      <td>5325328.0</td>\n",
       "    </tr>\n",
       "    <tr>\n",
       "      <th>2</th>\n",
       "      <td>03-01-2003</td>\n",
       "      <td>60.000000</td>\n",
       "      <td>61.049999</td>\n",
       "      <td>58.500000</td>\n",
       "      <td>59.012501</td>\n",
       "      <td>43.974789</td>\n",
       "      <td>4198040.0</td>\n",
       "    </tr>\n",
       "    <tr>\n",
       "      <th>3</th>\n",
       "      <td>06-01-2003</td>\n",
       "      <td>59.924999</td>\n",
       "      <td>60.187500</td>\n",
       "      <td>56.875000</td>\n",
       "      <td>57.262501</td>\n",
       "      <td>42.670746</td>\n",
       "      <td>4121520.0</td>\n",
       "    </tr>\n",
       "    <tr>\n",
       "      <th>4</th>\n",
       "      <td>07-01-2003</td>\n",
       "      <td>58.000000</td>\n",
       "      <td>58.500000</td>\n",
       "      <td>56.062500</td>\n",
       "      <td>56.599998</td>\n",
       "      <td>42.177040</td>\n",
       "      <td>2650800.0</td>\n",
       "    </tr>\n",
       "  </tbody>\n",
       "</table>\n",
       "</div>"
      ],
      "text/plain": [
       "         Date       Open       High        Low      Close  Adj Close     Volume\n",
       "0  01-01-2003  59.987499  61.974998  59.987499  61.087502  45.521038  6027072.0\n",
       "1  02-01-2003  61.525002  62.924999  57.912498  58.299999  43.443855  5325328.0\n",
       "2  03-01-2003  60.000000  61.049999  58.500000  59.012501  43.974789  4198040.0\n",
       "3  06-01-2003  59.924999  60.187500  56.875000  57.262501  42.670746  4121520.0\n",
       "4  07-01-2003  58.000000  58.500000  56.062500  56.599998  42.177040  2650800.0"
      ]
     },
     "execution_count": 58,
     "metadata": {
      "tags": []
     },
     "output_type": "execute_result"
    }
   ],
   "source": [
    "stock_data=pd.read_csv('/content/drive/MyDrive/The Sparks Foundation/dataset/TCS.NS_Stock.csv')\n",
    "stock_data.head()"
   ]
  },
  {
   "cell_type": "code",
   "execution_count": 59,
   "metadata": {
    "colab": {
     "base_uri": "https://localhost:8080/",
     "height": 203
    },
    "id": "S45RhpePYjFZ",
    "outputId": "c3c9de54-6d46-4657-afc9-0463d3276292"
   },
   "outputs": [
    {
     "data": {
      "text/html": [
       "<div>\n",
       "<style scoped>\n",
       "    .dataframe tbody tr th:only-of-type {\n",
       "        vertical-align: middle;\n",
       "    }\n",
       "\n",
       "    .dataframe tbody tr th {\n",
       "        vertical-align: top;\n",
       "    }\n",
       "\n",
       "    .dataframe thead th {\n",
       "        text-align: right;\n",
       "    }\n",
       "</style>\n",
       "<table border=\"1\" class=\"dataframe\">\n",
       "  <thead>\n",
       "    <tr style=\"text-align: right;\">\n",
       "      <th></th>\n",
       "      <th>publish_date</th>\n",
       "      <th>headline_category</th>\n",
       "      <th>headline_text</th>\n",
       "    </tr>\n",
       "  </thead>\n",
       "  <tbody>\n",
       "    <tr>\n",
       "      <th>0</th>\n",
       "      <td>02-01-2001</td>\n",
       "      <td>unknown</td>\n",
       "      <td>Status quo will not be disturbed at Ayodhya; s...</td>\n",
       "    </tr>\n",
       "    <tr>\n",
       "      <th>1</th>\n",
       "      <td>02-01-2001</td>\n",
       "      <td>unknown</td>\n",
       "      <td>Fissures in Hurriyat over Pak visit</td>\n",
       "    </tr>\n",
       "    <tr>\n",
       "      <th>2</th>\n",
       "      <td>02-01-2001</td>\n",
       "      <td>unknown</td>\n",
       "      <td>America's unwanted heading for India?</td>\n",
       "    </tr>\n",
       "    <tr>\n",
       "      <th>3</th>\n",
       "      <td>02-01-2001</td>\n",
       "      <td>unknown</td>\n",
       "      <td>For bigwigs; it is destination Goa</td>\n",
       "    </tr>\n",
       "    <tr>\n",
       "      <th>4</th>\n",
       "      <td>02-01-2001</td>\n",
       "      <td>unknown</td>\n",
       "      <td>Extra buses to clear tourist traffic</td>\n",
       "    </tr>\n",
       "  </tbody>\n",
       "</table>\n",
       "</div>"
      ],
      "text/plain": [
       "  publish_date  ...                                      headline_text\n",
       "0   02-01-2001  ...  Status quo will not be disturbed at Ayodhya; s...\n",
       "1   02-01-2001  ...                Fissures in Hurriyat over Pak visit\n",
       "2   02-01-2001  ...              America's unwanted heading for India?\n",
       "3   02-01-2001  ...                 For bigwigs; it is destination Goa\n",
       "4   02-01-2001  ...               Extra buses to clear tourist traffic\n",
       "\n",
       "[5 rows x 3 columns]"
      ]
     },
     "execution_count": 59,
     "metadata": {
      "tags": []
     },
     "output_type": "execute_result"
    }
   ],
   "source": [
    "news_data=pd.read_csv('/content/drive/MyDrive/The Sparks Foundation/dataset/india-news-headlines_1.csv')\n",
    "news_data.head()"
   ]
  },
  {
   "cell_type": "code",
   "execution_count": 60,
   "metadata": {
    "colab": {
     "base_uri": "https://localhost:8080/",
     "height": 203
    },
    "id": "TvEu6zS6Yw9M",
    "outputId": "09abc89d-927b-4041-ae92-fd9f541f5bb7"
   },
   "outputs": [
    {
     "data": {
      "text/html": [
       "<div>\n",
       "<style scoped>\n",
       "    .dataframe tbody tr th:only-of-type {\n",
       "        vertical-align: middle;\n",
       "    }\n",
       "\n",
       "    .dataframe tbody tr th {\n",
       "        vertical-align: top;\n",
       "    }\n",
       "\n",
       "    .dataframe thead th {\n",
       "        text-align: right;\n",
       "    }\n",
       "</style>\n",
       "<table border=\"1\" class=\"dataframe\">\n",
       "  <thead>\n",
       "    <tr style=\"text-align: right;\">\n",
       "      <th></th>\n",
       "      <th>Date</th>\n",
       "      <th>headline_category</th>\n",
       "      <th>headline_text</th>\n",
       "    </tr>\n",
       "  </thead>\n",
       "  <tbody>\n",
       "    <tr>\n",
       "      <th>0</th>\n",
       "      <td>02-01-2001</td>\n",
       "      <td>unknown</td>\n",
       "      <td>Status quo will not be disturbed at Ayodhya; s...</td>\n",
       "    </tr>\n",
       "    <tr>\n",
       "      <th>1</th>\n",
       "      <td>02-01-2001</td>\n",
       "      <td>unknown</td>\n",
       "      <td>Fissures in Hurriyat over Pak visit</td>\n",
       "    </tr>\n",
       "    <tr>\n",
       "      <th>2</th>\n",
       "      <td>02-01-2001</td>\n",
       "      <td>unknown</td>\n",
       "      <td>America's unwanted heading for India?</td>\n",
       "    </tr>\n",
       "    <tr>\n",
       "      <th>3</th>\n",
       "      <td>02-01-2001</td>\n",
       "      <td>unknown</td>\n",
       "      <td>For bigwigs; it is destination Goa</td>\n",
       "    </tr>\n",
       "    <tr>\n",
       "      <th>4</th>\n",
       "      <td>02-01-2001</td>\n",
       "      <td>unknown</td>\n",
       "      <td>Extra buses to clear tourist traffic</td>\n",
       "    </tr>\n",
       "  </tbody>\n",
       "</table>\n",
       "</div>"
      ],
      "text/plain": [
       "         Date  ...                                      headline_text\n",
       "0  02-01-2001  ...  Status quo will not be disturbed at Ayodhya; s...\n",
       "1  02-01-2001  ...                Fissures in Hurriyat over Pak visit\n",
       "2  02-01-2001  ...              America's unwanted heading for India?\n",
       "3  02-01-2001  ...                 For bigwigs; it is destination Goa\n",
       "4  02-01-2001  ...               Extra buses to clear tourist traffic\n",
       "\n",
       "[5 rows x 3 columns]"
      ]
     },
     "execution_count": 60,
     "metadata": {
      "tags": []
     },
     "output_type": "execute_result"
    }
   ],
   "source": [
    "news_data.rename(columns={'publish_date': 'Date'},inplace = True)\n",
    "news_data.head()"
   ]
  },
  {
   "cell_type": "markdown",
   "metadata": {
    "id": "HEVQ4IY3ys0z"
   },
   "source": [
    "# **Step 3.3: Creating Hybrid data from Numerical and Textual Data**"
   ]
  },
  {
   "cell_type": "code",
   "execution_count": 61,
   "metadata": {
    "id": "L6k8RGRmF-KV"
   },
   "outputs": [],
   "source": [
    "hybrid_data = pd.merge(stock_data,news_data, \n",
    "                   on='Date', \n",
    "                   how ='inner',\n",
    "                   left_index = True)"
   ]
  },
  {
   "cell_type": "code",
   "execution_count": 62,
   "metadata": {
    "colab": {
     "base_uri": "https://localhost:8080/",
     "height": 203
    },
    "id": "TrfN9UqMZEie",
    "outputId": "f23436a9-7f9c-41a4-bf85-573fd34a6832"
   },
   "outputs": [
    {
     "data": {
      "text/html": [
       "<div>\n",
       "<style scoped>\n",
       "    .dataframe tbody tr th:only-of-type {\n",
       "        vertical-align: middle;\n",
       "    }\n",
       "\n",
       "    .dataframe tbody tr th {\n",
       "        vertical-align: top;\n",
       "    }\n",
       "\n",
       "    .dataframe thead th {\n",
       "        text-align: right;\n",
       "    }\n",
       "</style>\n",
       "<table border=\"1\" class=\"dataframe\">\n",
       "  <thead>\n",
       "    <tr style=\"text-align: right;\">\n",
       "      <th></th>\n",
       "      <th>Date</th>\n",
       "      <th>Open</th>\n",
       "      <th>High</th>\n",
       "      <th>Low</th>\n",
       "      <th>Close</th>\n",
       "      <th>Adj Close</th>\n",
       "      <th>Volume</th>\n",
       "      <th>headline_category</th>\n",
       "      <th>headline_text</th>\n",
       "    </tr>\n",
       "  </thead>\n",
       "  <tbody>\n",
       "    <tr>\n",
       "      <th>172470</th>\n",
       "      <td>01-01-2003</td>\n",
       "      <td>59.987499</td>\n",
       "      <td>61.974998</td>\n",
       "      <td>59.987499</td>\n",
       "      <td>61.087502</td>\n",
       "      <td>45.521038</td>\n",
       "      <td>6027072.0</td>\n",
       "      <td>city.bengaluru</td>\n",
       "      <td>Chastened BCC members decide to mend ways</td>\n",
       "    </tr>\n",
       "    <tr>\n",
       "      <th>172471</th>\n",
       "      <td>01-01-2003</td>\n",
       "      <td>59.987499</td>\n",
       "      <td>61.974998</td>\n",
       "      <td>59.987499</td>\n",
       "      <td>61.087502</td>\n",
       "      <td>45.521038</td>\n",
       "      <td>6027072.0</td>\n",
       "      <td>city.bengaluru</td>\n",
       "      <td>New look for slums; govt to start work</td>\n",
       "    </tr>\n",
       "    <tr>\n",
       "      <th>172472</th>\n",
       "      <td>01-01-2003</td>\n",
       "      <td>59.987499</td>\n",
       "      <td>61.974998</td>\n",
       "      <td>59.987499</td>\n",
       "      <td>61.087502</td>\n",
       "      <td>45.521038</td>\n",
       "      <td>6027072.0</td>\n",
       "      <td>city.bengaluru</td>\n",
       "      <td>Global spiritual meet to begin from Jan. 16</td>\n",
       "    </tr>\n",
       "    <tr>\n",
       "      <th>172473</th>\n",
       "      <td>01-01-2003</td>\n",
       "      <td>59.987499</td>\n",
       "      <td>61.974998</td>\n",
       "      <td>59.987499</td>\n",
       "      <td>61.087502</td>\n",
       "      <td>45.521038</td>\n",
       "      <td>6027072.0</td>\n",
       "      <td>city.bengaluru</td>\n",
       "      <td>Parameshwara allays fears of scrapping CET</td>\n",
       "    </tr>\n",
       "    <tr>\n",
       "      <th>172474</th>\n",
       "      <td>01-01-2003</td>\n",
       "      <td>59.987499</td>\n",
       "      <td>61.974998</td>\n",
       "      <td>59.987499</td>\n",
       "      <td>61.087502</td>\n",
       "      <td>45.521038</td>\n",
       "      <td>6027072.0</td>\n",
       "      <td>city.bengaluru</td>\n",
       "      <td>Amusement park opens today</td>\n",
       "    </tr>\n",
       "  </tbody>\n",
       "</table>\n",
       "</div>"
      ],
      "text/plain": [
       "              Date  ...                                headline_text\n",
       "172470  01-01-2003  ...    Chastened BCC members decide to mend ways\n",
       "172471  01-01-2003  ...       New look for slums; govt to start work\n",
       "172472  01-01-2003  ...  Global spiritual meet to begin from Jan. 16\n",
       "172473  01-01-2003  ...   Parameshwara allays fears of scrapping CET\n",
       "172474  01-01-2003  ...                   Amusement park opens today\n",
       "\n",
       "[5 rows x 9 columns]"
      ]
     },
     "execution_count": 62,
     "metadata": {
      "tags": []
     },
     "output_type": "execute_result"
    }
   ],
   "source": [
    "hybrid_data.head()"
   ]
  },
  {
   "cell_type": "markdown",
   "metadata": {
    "id": "5435dwf2y9a7"
   },
   "source": [
    "# **Step 3.4: Performing Sentiment Analysis on Hybrid Data**"
   ]
  },
  {
   "cell_type": "markdown",
   "metadata": {
    "id": "l705jlus0jUr"
   },
   "source": [
    "## **Step 3.4.1: Sentiment Analysis using TextBlob**"
   ]
  },
  {
   "cell_type": "code",
   "execution_count": 63,
   "metadata": {
    "id": "ALkdbiXZZKBJ"
   },
   "outputs": [],
   "source": [
    "def analysis_polarity(headline):\n",
    "    result = TextBlob(headline)\n",
    "    \n",
    "    if result.sentiment.polarity < 0:\n",
    "        return 'negative'\n",
    "    elif result.sentiment.polarity == 0:\n",
    "        return 'neutral'\n",
    "    else:\n",
    "        return 'positive'"
   ]
  },
  {
   "cell_type": "code",
   "execution_count": 64,
   "metadata": {
    "colab": {
     "base_uri": "https://localhost:8080/",
     "height": 203
    },
    "id": "tLYJr53gZVCR",
    "outputId": "47347bd0-1615-45ee-9287-3128ca17e6cd"
   },
   "outputs": [
    {
     "data": {
      "text/html": [
       "<div>\n",
       "<style scoped>\n",
       "    .dataframe tbody tr th:only-of-type {\n",
       "        vertical-align: middle;\n",
       "    }\n",
       "\n",
       "    .dataframe tbody tr th {\n",
       "        vertical-align: top;\n",
       "    }\n",
       "\n",
       "    .dataframe thead th {\n",
       "        text-align: right;\n",
       "    }\n",
       "</style>\n",
       "<table border=\"1\" class=\"dataframe\">\n",
       "  <thead>\n",
       "    <tr style=\"text-align: right;\">\n",
       "      <th></th>\n",
       "      <th>Date</th>\n",
       "      <th>Open</th>\n",
       "      <th>High</th>\n",
       "      <th>Low</th>\n",
       "      <th>Close</th>\n",
       "      <th>Adj Close</th>\n",
       "      <th>Volume</th>\n",
       "      <th>headline_category</th>\n",
       "      <th>headline_text</th>\n",
       "      <th>sentiment</th>\n",
       "    </tr>\n",
       "  </thead>\n",
       "  <tbody>\n",
       "    <tr>\n",
       "      <th>172470</th>\n",
       "      <td>01-01-2003</td>\n",
       "      <td>59.987499</td>\n",
       "      <td>61.974998</td>\n",
       "      <td>59.987499</td>\n",
       "      <td>61.087502</td>\n",
       "      <td>45.521038</td>\n",
       "      <td>6027072.0</td>\n",
       "      <td>city.bengaluru</td>\n",
       "      <td>Chastened BCC members decide to mend ways</td>\n",
       "      <td>neutral</td>\n",
       "    </tr>\n",
       "    <tr>\n",
       "      <th>172471</th>\n",
       "      <td>01-01-2003</td>\n",
       "      <td>59.987499</td>\n",
       "      <td>61.974998</td>\n",
       "      <td>59.987499</td>\n",
       "      <td>61.087502</td>\n",
       "      <td>45.521038</td>\n",
       "      <td>6027072.0</td>\n",
       "      <td>city.bengaluru</td>\n",
       "      <td>New look for slums; govt to start work</td>\n",
       "      <td>positive</td>\n",
       "    </tr>\n",
       "    <tr>\n",
       "      <th>172472</th>\n",
       "      <td>01-01-2003</td>\n",
       "      <td>59.987499</td>\n",
       "      <td>61.974998</td>\n",
       "      <td>59.987499</td>\n",
       "      <td>61.087502</td>\n",
       "      <td>45.521038</td>\n",
       "      <td>6027072.0</td>\n",
       "      <td>city.bengaluru</td>\n",
       "      <td>Global spiritual meet to begin from Jan. 16</td>\n",
       "      <td>neutral</td>\n",
       "    </tr>\n",
       "    <tr>\n",
       "      <th>172473</th>\n",
       "      <td>01-01-2003</td>\n",
       "      <td>59.987499</td>\n",
       "      <td>61.974998</td>\n",
       "      <td>59.987499</td>\n",
       "      <td>61.087502</td>\n",
       "      <td>45.521038</td>\n",
       "      <td>6027072.0</td>\n",
       "      <td>city.bengaluru</td>\n",
       "      <td>Parameshwara allays fears of scrapping CET</td>\n",
       "      <td>neutral</td>\n",
       "    </tr>\n",
       "    <tr>\n",
       "      <th>172474</th>\n",
       "      <td>01-01-2003</td>\n",
       "      <td>59.987499</td>\n",
       "      <td>61.974998</td>\n",
       "      <td>59.987499</td>\n",
       "      <td>61.087502</td>\n",
       "      <td>45.521038</td>\n",
       "      <td>6027072.0</td>\n",
       "      <td>city.bengaluru</td>\n",
       "      <td>Amusement park opens today</td>\n",
       "      <td>neutral</td>\n",
       "    </tr>\n",
       "  </tbody>\n",
       "</table>\n",
       "</div>"
      ],
      "text/plain": [
       "              Date  ...  sentiment\n",
       "172470  01-01-2003  ...    neutral\n",
       "172471  01-01-2003  ...   positive\n",
       "172472  01-01-2003  ...    neutral\n",
       "172473  01-01-2003  ...    neutral\n",
       "172474  01-01-2003  ...    neutral\n",
       "\n",
       "[5 rows x 10 columns]"
      ]
     },
     "execution_count": 64,
     "metadata": {
      "tags": []
     },
     "output_type": "execute_result"
    }
   ],
   "source": [
    "hybrid_data['sentiment'] = np.array([analysis_polarity(headline) for headline in hybrid_data['headline_text']])\n",
    "hybrid_data.head()"
   ]
  },
  {
   "cell_type": "code",
   "execution_count": 65,
   "metadata": {
    "id": "78a2vGnqaYwN"
   },
   "outputs": [],
   "source": [
    "senti_data = pd.get_dummies(hybrid_data['sentiment'],drop_first=True)"
   ]
  },
  {
   "cell_type": "code",
   "execution_count": 66,
   "metadata": {
    "id": "RSJEbawpZrCx"
   },
   "outputs": [],
   "source": [
    "hybrid_data = pd.concat([hybrid_data,senti_data],axis=1)"
   ]
  },
  {
   "cell_type": "code",
   "execution_count": 67,
   "metadata": {
    "colab": {
     "base_uri": "https://localhost:8080/",
     "height": 203
    },
    "id": "dDwvzFMeaoE5",
    "outputId": "1dd0c670-3dde-4a22-e8b7-86eb542787e5"
   },
   "outputs": [
    {
     "data": {
      "text/html": [
       "<div>\n",
       "<style scoped>\n",
       "    .dataframe tbody tr th:only-of-type {\n",
       "        vertical-align: middle;\n",
       "    }\n",
       "\n",
       "    .dataframe tbody tr th {\n",
       "        vertical-align: top;\n",
       "    }\n",
       "\n",
       "    .dataframe thead th {\n",
       "        text-align: right;\n",
       "    }\n",
       "</style>\n",
       "<table border=\"1\" class=\"dataframe\">\n",
       "  <thead>\n",
       "    <tr style=\"text-align: right;\">\n",
       "      <th></th>\n",
       "      <th>Date</th>\n",
       "      <th>Open</th>\n",
       "      <th>High</th>\n",
       "      <th>Low</th>\n",
       "      <th>Close</th>\n",
       "      <th>Adj Close</th>\n",
       "      <th>Volume</th>\n",
       "      <th>headline_category</th>\n",
       "      <th>headline_text</th>\n",
       "      <th>sentiment</th>\n",
       "      <th>neutral</th>\n",
       "      <th>positive</th>\n",
       "    </tr>\n",
       "  </thead>\n",
       "  <tbody>\n",
       "    <tr>\n",
       "      <th>172470</th>\n",
       "      <td>01-01-2003</td>\n",
       "      <td>59.987499</td>\n",
       "      <td>61.974998</td>\n",
       "      <td>59.987499</td>\n",
       "      <td>61.087502</td>\n",
       "      <td>45.521038</td>\n",
       "      <td>6027072.0</td>\n",
       "      <td>city.bengaluru</td>\n",
       "      <td>Chastened BCC members decide to mend ways</td>\n",
       "      <td>neutral</td>\n",
       "      <td>1</td>\n",
       "      <td>0</td>\n",
       "    </tr>\n",
       "    <tr>\n",
       "      <th>172471</th>\n",
       "      <td>01-01-2003</td>\n",
       "      <td>59.987499</td>\n",
       "      <td>61.974998</td>\n",
       "      <td>59.987499</td>\n",
       "      <td>61.087502</td>\n",
       "      <td>45.521038</td>\n",
       "      <td>6027072.0</td>\n",
       "      <td>city.bengaluru</td>\n",
       "      <td>New look for slums; govt to start work</td>\n",
       "      <td>positive</td>\n",
       "      <td>0</td>\n",
       "      <td>1</td>\n",
       "    </tr>\n",
       "    <tr>\n",
       "      <th>172472</th>\n",
       "      <td>01-01-2003</td>\n",
       "      <td>59.987499</td>\n",
       "      <td>61.974998</td>\n",
       "      <td>59.987499</td>\n",
       "      <td>61.087502</td>\n",
       "      <td>45.521038</td>\n",
       "      <td>6027072.0</td>\n",
       "      <td>city.bengaluru</td>\n",
       "      <td>Global spiritual meet to begin from Jan. 16</td>\n",
       "      <td>neutral</td>\n",
       "      <td>1</td>\n",
       "      <td>0</td>\n",
       "    </tr>\n",
       "    <tr>\n",
       "      <th>172473</th>\n",
       "      <td>01-01-2003</td>\n",
       "      <td>59.987499</td>\n",
       "      <td>61.974998</td>\n",
       "      <td>59.987499</td>\n",
       "      <td>61.087502</td>\n",
       "      <td>45.521038</td>\n",
       "      <td>6027072.0</td>\n",
       "      <td>city.bengaluru</td>\n",
       "      <td>Parameshwara allays fears of scrapping CET</td>\n",
       "      <td>neutral</td>\n",
       "      <td>1</td>\n",
       "      <td>0</td>\n",
       "    </tr>\n",
       "    <tr>\n",
       "      <th>172474</th>\n",
       "      <td>01-01-2003</td>\n",
       "      <td>59.987499</td>\n",
       "      <td>61.974998</td>\n",
       "      <td>59.987499</td>\n",
       "      <td>61.087502</td>\n",
       "      <td>45.521038</td>\n",
       "      <td>6027072.0</td>\n",
       "      <td>city.bengaluru</td>\n",
       "      <td>Amusement park opens today</td>\n",
       "      <td>neutral</td>\n",
       "      <td>1</td>\n",
       "      <td>0</td>\n",
       "    </tr>\n",
       "  </tbody>\n",
       "</table>\n",
       "</div>"
      ],
      "text/plain": [
       "              Date       Open       High  ...  sentiment  neutral  positive\n",
       "172470  01-01-2003  59.987499  61.974998  ...    neutral        1         0\n",
       "172471  01-01-2003  59.987499  61.974998  ...   positive        0         1\n",
       "172472  01-01-2003  59.987499  61.974998  ...    neutral        1         0\n",
       "172473  01-01-2003  59.987499  61.974998  ...    neutral        1         0\n",
       "172474  01-01-2003  59.987499  61.974998  ...    neutral        1         0\n",
       "\n",
       "[5 rows x 12 columns]"
      ]
     },
     "execution_count": 67,
     "metadata": {
      "tags": []
     },
     "output_type": "execute_result"
    }
   ],
   "source": [
    "hybrid_data.head()"
   ]
  },
  {
   "cell_type": "markdown",
   "metadata": {
    "id": "7yfZ1CMebECS"
   },
   "source": [
    "## **Step 3.4.2: Adding subjectivity and polarity Scores to Textual Data (News Headlines)**"
   ]
  },
  {
   "cell_type": "code",
   "execution_count": 68,
   "metadata": {
    "id": "G6jekJ3muILJ"
   },
   "outputs": [],
   "source": [
    "#Functions to get the subjectivity and polarity\n",
    "def getSubjectivity(text):\n",
    "  return TextBlob(text).sentiment.subjectivity\n",
    "\n",
    "def getPolarity(text):\n",
    "  return  TextBlob(text).sentiment.polarity"
   ]
  },
  {
   "cell_type": "code",
   "execution_count": 69,
   "metadata": {
    "colab": {
     "base_uri": "https://localhost:8080/",
     "height": 304
    },
    "id": "gW04Zk0c6LrN",
    "outputId": "df580136-bac1-485e-ce34-73937f10e718"
   },
   "outputs": [
    {
     "data": {
      "text/html": [
       "<div>\n",
       "<style scoped>\n",
       "    .dataframe tbody tr th:only-of-type {\n",
       "        vertical-align: middle;\n",
       "    }\n",
       "\n",
       "    .dataframe tbody tr th {\n",
       "        vertical-align: top;\n",
       "    }\n",
       "\n",
       "    .dataframe thead th {\n",
       "        text-align: right;\n",
       "    }\n",
       "</style>\n",
       "<table border=\"1\" class=\"dataframe\">\n",
       "  <thead>\n",
       "    <tr style=\"text-align: right;\">\n",
       "      <th></th>\n",
       "      <th>Date</th>\n",
       "      <th>Open</th>\n",
       "      <th>High</th>\n",
       "      <th>Low</th>\n",
       "      <th>Close</th>\n",
       "      <th>Adj Close</th>\n",
       "      <th>Volume</th>\n",
       "      <th>headline_category</th>\n",
       "      <th>headline_text</th>\n",
       "      <th>sentiment</th>\n",
       "      <th>neutral</th>\n",
       "      <th>positive</th>\n",
       "      <th>Subjectivity</th>\n",
       "      <th>Polarity</th>\n",
       "    </tr>\n",
       "  </thead>\n",
       "  <tbody>\n",
       "    <tr>\n",
       "      <th>172470</th>\n",
       "      <td>01-01-2003</td>\n",
       "      <td>59.987499</td>\n",
       "      <td>61.974998</td>\n",
       "      <td>59.987499</td>\n",
       "      <td>61.087502</td>\n",
       "      <td>45.521038</td>\n",
       "      <td>6027072.0</td>\n",
       "      <td>city.bengaluru</td>\n",
       "      <td>Chastened BCC members decide to mend ways</td>\n",
       "      <td>neutral</td>\n",
       "      <td>1</td>\n",
       "      <td>0</td>\n",
       "      <td>0.000000</td>\n",
       "      <td>0.000000</td>\n",
       "    </tr>\n",
       "    <tr>\n",
       "      <th>172471</th>\n",
       "      <td>01-01-2003</td>\n",
       "      <td>59.987499</td>\n",
       "      <td>61.974998</td>\n",
       "      <td>59.987499</td>\n",
       "      <td>61.087502</td>\n",
       "      <td>45.521038</td>\n",
       "      <td>6027072.0</td>\n",
       "      <td>city.bengaluru</td>\n",
       "      <td>New look for slums; govt to start work</td>\n",
       "      <td>positive</td>\n",
       "      <td>0</td>\n",
       "      <td>1</td>\n",
       "      <td>0.454545</td>\n",
       "      <td>0.136364</td>\n",
       "    </tr>\n",
       "    <tr>\n",
       "      <th>172472</th>\n",
       "      <td>01-01-2003</td>\n",
       "      <td>59.987499</td>\n",
       "      <td>61.974998</td>\n",
       "      <td>59.987499</td>\n",
       "      <td>61.087502</td>\n",
       "      <td>45.521038</td>\n",
       "      <td>6027072.0</td>\n",
       "      <td>city.bengaluru</td>\n",
       "      <td>Global spiritual meet to begin from Jan. 16</td>\n",
       "      <td>neutral</td>\n",
       "      <td>1</td>\n",
       "      <td>0</td>\n",
       "      <td>0.066667</td>\n",
       "      <td>0.000000</td>\n",
       "    </tr>\n",
       "    <tr>\n",
       "      <th>172473</th>\n",
       "      <td>01-01-2003</td>\n",
       "      <td>59.987499</td>\n",
       "      <td>61.974998</td>\n",
       "      <td>59.987499</td>\n",
       "      <td>61.087502</td>\n",
       "      <td>45.521038</td>\n",
       "      <td>6027072.0</td>\n",
       "      <td>city.bengaluru</td>\n",
       "      <td>Parameshwara allays fears of scrapping CET</td>\n",
       "      <td>neutral</td>\n",
       "      <td>1</td>\n",
       "      <td>0</td>\n",
       "      <td>0.000000</td>\n",
       "      <td>0.000000</td>\n",
       "    </tr>\n",
       "    <tr>\n",
       "      <th>172474</th>\n",
       "      <td>01-01-2003</td>\n",
       "      <td>59.987499</td>\n",
       "      <td>61.974998</td>\n",
       "      <td>59.987499</td>\n",
       "      <td>61.087502</td>\n",
       "      <td>45.521038</td>\n",
       "      <td>6027072.0</td>\n",
       "      <td>city.bengaluru</td>\n",
       "      <td>Amusement park opens today</td>\n",
       "      <td>neutral</td>\n",
       "      <td>1</td>\n",
       "      <td>0</td>\n",
       "      <td>0.000000</td>\n",
       "      <td>0.000000</td>\n",
       "    </tr>\n",
       "  </tbody>\n",
       "</table>\n",
       "</div>"
      ],
      "text/plain": [
       "              Date       Open       High  ...  positive  Subjectivity  Polarity\n",
       "172470  01-01-2003  59.987499  61.974998  ...         0      0.000000  0.000000\n",
       "172471  01-01-2003  59.987499  61.974998  ...         1      0.454545  0.136364\n",
       "172472  01-01-2003  59.987499  61.974998  ...         0      0.066667  0.000000\n",
       "172473  01-01-2003  59.987499  61.974998  ...         0      0.000000  0.000000\n",
       "172474  01-01-2003  59.987499  61.974998  ...         0      0.000000  0.000000\n",
       "\n",
       "[5 rows x 14 columns]"
      ]
     },
     "execution_count": 69,
     "metadata": {
      "tags": []
     },
     "output_type": "execute_result"
    }
   ],
   "source": [
    "#Adding subjectivity and polarity columns\n",
    "hybrid_data['Subjectivity'] =hybrid_data['headline_text'].apply(getSubjectivity)\n",
    "hybrid_data['Polarity'] = hybrid_data['headline_text'].apply(getPolarity)\n",
    "hybrid_data.head()"
   ]
  },
  {
   "cell_type": "markdown",
   "metadata": {
    "id": "81XxtLWTEOZy"
   },
   "source": []
  },
  {
   "cell_type": "markdown",
   "metadata": {
    "id": "T8gAJxdzFS4T"
   },
   "source": [
    "## **Step 3.4.3: Visualizing the polarity and Subjectivity scores**\n"
   ]
  },
  {
   "cell_type": "code",
   "execution_count": 70,
   "metadata": {
    "colab": {
     "base_uri": "https://localhost:8080/",
     "height": 0
    },
    "id": "8xg8Yx1W8psL",
    "outputId": "fa414f63-fca5-4a5b-dea1-1eae348c9baf"
   },
   "outputs": [
    {
     "data": {
      "text/plain": [
       "<matplotlib.axes._subplots.AxesSubplot at 0x7f7945162950>"
      ]
     },
     "execution_count": 70,
     "metadata": {
      "tags": []
     },
     "output_type": "execute_result"
    },
    {
     "data": {
      "image/png": "[encoded data removed]",
      "text/plain": [
       "<Figure size 720x432 with 1 Axes>"
      ]
     },
     "metadata": {
      "needs_background": "light",
      "tags": []
     },
     "output_type": "display_data"
    }
   ],
   "source": [
    "plt.figure(figsize = (10,6))\n",
    "plt.title('News Polarity')\n",
    "hybrid_data['Polarity'].hist(color = '#DE3163')"
   ]
  },
  {
   "cell_type": "code",
   "execution_count": 71,
   "metadata": {
    "colab": {
     "base_uri": "https://localhost:8080/",
     "height": 0
    },
    "id": "lhnhHnCw809L",
    "outputId": "2d9f523b-d5c5-4d51-d460-3beaa565f22e"
   },
   "outputs": [
    {
     "data": {
      "text/plain": [
       "<matplotlib.axes._subplots.AxesSubplot at 0x7f794174fad0>"
      ]
     },
     "execution_count": 71,
     "metadata": {
      "tags": []
     },
     "output_type": "execute_result"
    },
    {
     "data": {
      "image/png": "[encoded data removed]",
      "text/plain": [
       "<Figure size 720x432 with 1 Axes>"
      ]
     },
     "metadata": {
      "needs_background": "light",
      "tags": []
     },
     "output_type": "display_data"
    }
   ],
   "source": [
    "plt.figure(figsize = (10,6))\n",
    "plt.title('News Subjectivity')\n",
    "hybrid_data['Subjectivity'].hist(color = '#FFC300')"
   ]
  },
  {
   "cell_type": "markdown",
   "metadata": {
    "id": "TtC5wuo6EfMx"
   },
   "source": [
    "## **Step 3.4.4 : Performing Sentiment Analysis over the news Headlines of Hybrid Data**"
   ]
  },
  {
   "cell_type": "code",
   "execution_count": 72,
   "metadata": {
    "colab": {
     "base_uri": "https://localhost:8080/",
     "height": 425
    },
    "id": "QJ20DxSN9aKS",
    "outputId": "5ba86230-5fd6-492a-d908-18989b1ac5dc"
   },
   "outputs": [
    {
     "data": {
      "text/html": [
       "<div>\n",
       "<style scoped>\n",
       "    .dataframe tbody tr th:only-of-type {\n",
       "        vertical-align: middle;\n",
       "    }\n",
       "\n",
       "    .dataframe tbody tr th {\n",
       "        vertical-align: top;\n",
       "    }\n",
       "\n",
       "    .dataframe thead th {\n",
       "        text-align: right;\n",
       "    }\n",
       "</style>\n",
       "<table border=\"1\" class=\"dataframe\">\n",
       "  <thead>\n",
       "    <tr style=\"text-align: right;\">\n",
       "      <th></th>\n",
       "      <th>Date</th>\n",
       "      <th>Open</th>\n",
       "      <th>High</th>\n",
       "      <th>Low</th>\n",
       "      <th>Close</th>\n",
       "      <th>Adj Close</th>\n",
       "      <th>Volume</th>\n",
       "      <th>headline_category</th>\n",
       "      <th>headline_text</th>\n",
       "      <th>sentiment</th>\n",
       "      <th>neutral</th>\n",
       "      <th>positive</th>\n",
       "      <th>Subjectivity</th>\n",
       "      <th>Polarity</th>\n",
       "      <th>Compound</th>\n",
       "      <th>Negative</th>\n",
       "      <th>Neutral</th>\n",
       "      <th>Positive</th>\n",
       "    </tr>\n",
       "  </thead>\n",
       "  <tbody>\n",
       "    <tr>\n",
       "      <th>172470</th>\n",
       "      <td>01-01-2003</td>\n",
       "      <td>59.987499</td>\n",
       "      <td>61.974998</td>\n",
       "      <td>59.987499</td>\n",
       "      <td>61.087502</td>\n",
       "      <td>45.521038</td>\n",
       "      <td>6027072.0</td>\n",
       "      <td>city.bengaluru</td>\n",
       "      <td>Chastened BCC members decide to mend ways</td>\n",
       "      <td>neutral</td>\n",
       "      <td>1</td>\n",
       "      <td>0</td>\n",
       "      <td>0.000000</td>\n",
       "      <td>0.000000</td>\n",
       "      <td>0.0000</td>\n",
       "      <td>0.000</td>\n",
       "      <td>1.000</td>\n",
       "      <td>0.000</td>\n",
       "    </tr>\n",
       "    <tr>\n",
       "      <th>172471</th>\n",
       "      <td>01-01-2003</td>\n",
       "      <td>59.987499</td>\n",
       "      <td>61.974998</td>\n",
       "      <td>59.987499</td>\n",
       "      <td>61.087502</td>\n",
       "      <td>45.521038</td>\n",
       "      <td>6027072.0</td>\n",
       "      <td>city.bengaluru</td>\n",
       "      <td>New look for slums; govt to start work</td>\n",
       "      <td>positive</td>\n",
       "      <td>0</td>\n",
       "      <td>1</td>\n",
       "      <td>0.454545</td>\n",
       "      <td>0.136364</td>\n",
       "      <td>0.0000</td>\n",
       "      <td>0.000</td>\n",
       "      <td>1.000</td>\n",
       "      <td>0.000</td>\n",
       "    </tr>\n",
       "    <tr>\n",
       "      <th>172472</th>\n",
       "      <td>01-01-2003</td>\n",
       "      <td>59.987499</td>\n",
       "      <td>61.974998</td>\n",
       "      <td>59.987499</td>\n",
       "      <td>61.087502</td>\n",
       "      <td>45.521038</td>\n",
       "      <td>6027072.0</td>\n",
       "      <td>city.bengaluru</td>\n",
       "      <td>Global spiritual meet to begin from Jan. 16</td>\n",
       "      <td>neutral</td>\n",
       "      <td>1</td>\n",
       "      <td>0</td>\n",
       "      <td>0.066667</td>\n",
       "      <td>0.000000</td>\n",
       "      <td>0.0000</td>\n",
       "      <td>0.000</td>\n",
       "      <td>1.000</td>\n",
       "      <td>0.000</td>\n",
       "    </tr>\n",
       "    <tr>\n",
       "      <th>172473</th>\n",
       "      <td>01-01-2003</td>\n",
       "      <td>59.987499</td>\n",
       "      <td>61.974998</td>\n",
       "      <td>59.987499</td>\n",
       "      <td>61.087502</td>\n",
       "      <td>45.521038</td>\n",
       "      <td>6027072.0</td>\n",
       "      <td>city.bengaluru</td>\n",
       "      <td>Parameshwara allays fears of scrapping CET</td>\n",
       "      <td>neutral</td>\n",
       "      <td>1</td>\n",
       "      <td>0</td>\n",
       "      <td>0.000000</td>\n",
       "      <td>0.000000</td>\n",
       "      <td>-0.4215</td>\n",
       "      <td>0.359</td>\n",
       "      <td>0.641</td>\n",
       "      <td>0.000</td>\n",
       "    </tr>\n",
       "    <tr>\n",
       "      <th>172474</th>\n",
       "      <td>01-01-2003</td>\n",
       "      <td>59.987499</td>\n",
       "      <td>61.974998</td>\n",
       "      <td>59.987499</td>\n",
       "      <td>61.087502</td>\n",
       "      <td>45.521038</td>\n",
       "      <td>6027072.0</td>\n",
       "      <td>city.bengaluru</td>\n",
       "      <td>Amusement park opens today</td>\n",
       "      <td>neutral</td>\n",
       "      <td>1</td>\n",
       "      <td>0</td>\n",
       "      <td>0.000000</td>\n",
       "      <td>0.000000</td>\n",
       "      <td>0.3612</td>\n",
       "      <td>0.000</td>\n",
       "      <td>0.545</td>\n",
       "      <td>0.455</td>\n",
       "    </tr>\n",
       "  </tbody>\n",
       "</table>\n",
       "</div>"
      ],
      "text/plain": [
       "              Date       Open       High  ...  Negative  Neutral  Positive\n",
       "172470  01-01-2003  59.987499  61.974998  ...     0.000    1.000     0.000\n",
       "172471  01-01-2003  59.987499  61.974998  ...     0.000    1.000     0.000\n",
       "172472  01-01-2003  59.987499  61.974998  ...     0.000    1.000     0.000\n",
       "172473  01-01-2003  59.987499  61.974998  ...     0.359    0.641     0.000\n",
       "172474  01-01-2003  59.987499  61.974998  ...     0.000    0.545     0.455\n",
       "\n",
       "[5 rows x 18 columns]"
      ]
     },
     "execution_count": 72,
     "metadata": {
      "tags": []
     },
     "output_type": "execute_result"
    }
   ],
   "source": [
    "#Adding sentiment score to news\n",
    "senti_int_an = SentimentIntensityAnalyzer()\n",
    "\n",
    "hybrid_data['Compound'] = [senti_int_an.polarity_scores(v)['compound'] for v in hybrid_data['headline_text']]\n",
    "hybrid_data['Negative'] = [senti_int_an.polarity_scores(v)['neg'] for v in hybrid_data['headline_text']]\n",
    "hybrid_data['Neutral'] = [senti_int_an.polarity_scores(v)['neu'] for v in hybrid_data['headline_text']]\n",
    "hybrid_data['Positive'] = [senti_int_an.polarity_scores(v)['pos'] for v in hybrid_data['headline_text']]\n",
    "hybrid_data.head()"
   ]
  },
  {
   "cell_type": "code",
   "execution_count": 73,
   "metadata": {
    "colab": {
     "base_uri": "https://localhost:8080/"
    },
    "id": "YYcAjp7R_BrT",
    "outputId": "40a0bc14-0ed5-473f-e6f4-8cebf0780e0b"
   },
   "outputs": [
    {
     "data": {
      "text/plain": [
       "Index(['Date', 'Open', 'High', 'Low', 'Close', 'Adj Close', 'Volume',\n",
       "       'headline_category', 'headline_text', 'sentiment', 'neutral',\n",
       "       'positive', 'Subjectivity', 'Polarity', 'Compound', 'Negative',\n",
       "       'Neutral', 'Positive'],\n",
       "      dtype='object')"
      ]
     },
     "execution_count": 73,
     "metadata": {
      "tags": []
     },
     "output_type": "execute_result"
    }
   ],
   "source": [
    "hybrid_data.columns"
   ]
  },
  {
   "cell_type": "code",
   "execution_count": 74,
   "metadata": {
    "id": "50T53q_x_fNa"
   },
   "outputs": [],
   "source": [
    "req_col = [ 'Open',  'High', 'Low','Volume','Compound', 'Negative', 'Neutral' ,'Positive','positive']"
   ]
  },
  {
   "cell_type": "code",
   "execution_count": 75,
   "metadata": {
    "id": "i4tCIIRBApGq"
   },
   "outputs": [],
   "source": [
    "new_hybrid = hybrid_data[req_col]\n",
    "new_hybrid.reset_index(inplace = True)"
   ]
  },
  {
   "cell_type": "code",
   "execution_count": 76,
   "metadata": {
    "colab": {
     "base_uri": "https://localhost:8080/"
    },
    "id": "WezKKNoiGDGN",
    "outputId": "f2b40126-c8e8-4476-d42e-9d74dbfb2bec"
   },
   "outputs": [
    {
     "name": "stderr",
     "output_type": "stream",
     "text": [
      "/usr/local/lib/python3.7/dist-packages/pandas/core/frame.py:4308: SettingWithCopyWarning: \n",
      "A value is trying to be set on a copy of a slice from a DataFrame\n",
      "\n",
      "See the caveats in the documentation: https://pandas.pydata.org/pandas-docs/stable/user_guide/indexing.html#returning-a-view-versus-a-copy\n",
      "  errors=errors,\n"
     ]
    }
   ],
   "source": [
    "new_hybrid.rename(columns = {'positive':'Label'}, inplace = True)"
   ]
  },
  {
   "cell_type": "code",
   "execution_count": 77,
   "metadata": {
    "colab": {
     "base_uri": "https://localhost:8080/",
     "height": 203
    },
    "id": "ncR4bNnPBCU5",
    "outputId": "3f773921-a094-47e6-9dc6-fa0e58df33a7"
   },
   "outputs": [
    {
     "data": {
      "text/html": [
       "<div>\n",
       "<style scoped>\n",
       "    .dataframe tbody tr th:only-of-type {\n",
       "        vertical-align: middle;\n",
       "    }\n",
       "\n",
       "    .dataframe tbody tr th {\n",
       "        vertical-align: top;\n",
       "    }\n",
       "\n",
       "    .dataframe thead th {\n",
       "        text-align: right;\n",
       "    }\n",
       "</style>\n",
       "<table border=\"1\" class=\"dataframe\">\n",
       "  <thead>\n",
       "    <tr style=\"text-align: right;\">\n",
       "      <th></th>\n",
       "      <th>index</th>\n",
       "      <th>Open</th>\n",
       "      <th>High</th>\n",
       "      <th>Low</th>\n",
       "      <th>Volume</th>\n",
       "      <th>Compound</th>\n",
       "      <th>Negative</th>\n",
       "      <th>Neutral</th>\n",
       "      <th>Positive</th>\n",
       "      <th>Label</th>\n",
       "    </tr>\n",
       "  </thead>\n",
       "  <tbody>\n",
       "    <tr>\n",
       "      <th>0</th>\n",
       "      <td>172470</td>\n",
       "      <td>59.987499</td>\n",
       "      <td>61.974998</td>\n",
       "      <td>59.987499</td>\n",
       "      <td>6027072.0</td>\n",
       "      <td>0.0000</td>\n",
       "      <td>0.000</td>\n",
       "      <td>1.000</td>\n",
       "      <td>0.000</td>\n",
       "      <td>0</td>\n",
       "    </tr>\n",
       "    <tr>\n",
       "      <th>1</th>\n",
       "      <td>172471</td>\n",
       "      <td>59.987499</td>\n",
       "      <td>61.974998</td>\n",
       "      <td>59.987499</td>\n",
       "      <td>6027072.0</td>\n",
       "      <td>0.0000</td>\n",
       "      <td>0.000</td>\n",
       "      <td>1.000</td>\n",
       "      <td>0.000</td>\n",
       "      <td>1</td>\n",
       "    </tr>\n",
       "    <tr>\n",
       "      <th>2</th>\n",
       "      <td>172472</td>\n",
       "      <td>59.987499</td>\n",
       "      <td>61.974998</td>\n",
       "      <td>59.987499</td>\n",
       "      <td>6027072.0</td>\n",
       "      <td>0.0000</td>\n",
       "      <td>0.000</td>\n",
       "      <td>1.000</td>\n",
       "      <td>0.000</td>\n",
       "      <td>0</td>\n",
       "    </tr>\n",
       "    <tr>\n",
       "      <th>3</th>\n",
       "      <td>172473</td>\n",
       "      <td>59.987499</td>\n",
       "      <td>61.974998</td>\n",
       "      <td>59.987499</td>\n",
       "      <td>6027072.0</td>\n",
       "      <td>-0.4215</td>\n",
       "      <td>0.359</td>\n",
       "      <td>0.641</td>\n",
       "      <td>0.000</td>\n",
       "      <td>0</td>\n",
       "    </tr>\n",
       "    <tr>\n",
       "      <th>4</th>\n",
       "      <td>172474</td>\n",
       "      <td>59.987499</td>\n",
       "      <td>61.974998</td>\n",
       "      <td>59.987499</td>\n",
       "      <td>6027072.0</td>\n",
       "      <td>0.3612</td>\n",
       "      <td>0.000</td>\n",
       "      <td>0.545</td>\n",
       "      <td>0.455</td>\n",
       "      <td>0</td>\n",
       "    </tr>\n",
       "  </tbody>\n",
       "</table>\n",
       "</div>"
      ],
      "text/plain": [
       "    index       Open       High        Low  ...  Negative  Neutral  Positive  Label\n",
       "0  172470  59.987499  61.974998  59.987499  ...     0.000    1.000     0.000      0\n",
       "1  172471  59.987499  61.974998  59.987499  ...     0.000    1.000     0.000      1\n",
       "2  172472  59.987499  61.974998  59.987499  ...     0.000    1.000     0.000      0\n",
       "3  172473  59.987499  61.974998  59.987499  ...     0.359    0.641     0.000      0\n",
       "4  172474  59.987499  61.974998  59.987499  ...     0.000    0.545     0.455      0\n",
       "\n",
       "[5 rows x 10 columns]"
      ]
     },
     "execution_count": 77,
     "metadata": {
      "tags": []
     },
     "output_type": "execute_result"
    }
   ],
   "source": [
    "new_hybrid.head()"
   ]
  },
  {
   "cell_type": "code",
   "execution_count": 78,
   "metadata": {
    "colab": {
     "base_uri": "https://localhost:8080/"
    },
    "id": "BvcGdn1fEpdS",
    "outputId": "cbaf9a8e-4e79-47de-89ed-ca633eba90b4"
   },
   "outputs": [
    {
     "data": {
      "text/plain": [
       "(620155, 10)"
      ]
     },
     "execution_count": 78,
     "metadata": {
      "tags": []
     },
     "output_type": "execute_result"
    }
   ],
   "source": [
    "new_hybrid.shape"
   ]
  },
  {
   "cell_type": "markdown",
   "metadata": {
    "id": "IvPrlMDKBEEj"
   },
   "source": [
    "# **Step 3.5: Training and Testing the Models for Stock Price/Performance Analysis**"
   ]
  },
  {
   "cell_type": "code",
   "execution_count": 79,
   "metadata": {
    "id": "TyNvRAF9GYgZ"
   },
   "outputs": [],
   "source": [
    "X = new_hybrid.drop('Label', axis=1)    \n",
    "\n",
    "y = new_hybrid['Label']  "
   ]
  },
  {
   "cell_type": "code",
   "execution_count": 80,
   "metadata": {
    "id": "_f7n4bzLCwFR"
   },
   "outputs": [],
   "source": [
    "x_train, x_test, y_train, y_test = train_test_split(X, y, test_size=0.2, random_state = 0)\n"
   ]
  },
  {
   "cell_type": "code",
   "execution_count": 81,
   "metadata": {
    "colab": {
     "base_uri": "https://localhost:8080/"
    },
    "id": "m5ZL2bfKH_PL",
    "outputId": "0999bf3a-49af-4e0a-9536-07a70753cd18"
   },
   "outputs": [
    {
     "data": {
      "text/plain": [
       "True"
      ]
     },
     "execution_count": 81,
     "metadata": {
      "tags": []
     },
     "output_type": "execute_result"
    }
   ],
   "source": [
    "np.any(np.isnan(x_train)) "
   ]
  },
  {
   "cell_type": "code",
   "execution_count": 82,
   "metadata": {
    "colab": {
     "base_uri": "https://localhost:8080/"
    },
    "id": "nTEeUPNeIBAL",
    "outputId": "3c9f3b57-2fbd-46bd-8a06-67e429702f82"
   },
   "outputs": [
    {
     "data": {
      "text/plain": [
       "False"
      ]
     },
     "execution_count": 82,
     "metadata": {
      "tags": []
     },
     "output_type": "execute_result"
    }
   ],
   "source": [
    "np.all(np.isfinite(x_train)) "
   ]
  },
  {
   "cell_type": "code",
   "execution_count": 83,
   "metadata": {
    "id": "W_uFyPa0IEmo"
   },
   "outputs": [],
   "source": [
    "x_train = x_train.fillna(x_train.mean())"
   ]
  },
  {
   "cell_type": "code",
   "execution_count": 84,
   "metadata": {
    "id": "Aa-RlvhhIWuK"
   },
   "outputs": [],
   "source": [
    "x_test=x_test.fillna(x_test.mean())"
   ]
  },
  {
   "cell_type": "markdown",
   "metadata": {
    "id": "55_LkcUyB7JJ"
   },
   "source": [
    "## **Step 3.5.1: Stock Price/Performance analysis using Logistic Regressor Model**"
   ]
  },
  {
   "cell_type": "code",
   "execution_count": 85,
   "metadata": {
    "colab": {
     "base_uri": "https://localhost:8080/"
    },
    "id": "1OnpX0gADDJh",
    "outputId": "8a83b7a6-ccd4-4cc0-a999-40258ad23987"
   },
   "outputs": [
    {
     "data": {
      "text/plain": [
       "0.8322032395127025"
      ]
     },
     "execution_count": 85,
     "metadata": {
      "tags": []
     },
     "output_type": "execute_result"
    }
   ],
   "source": [
    "logit = LogisticRegression()\n",
    "logit.fit(x_train,y_train)\n",
    "y_logit_pred = logit.predict(x_test)\n",
    "accuracy_score(y_test,y_logit_pred)"
   ]
  },
  {
   "cell_type": "markdown",
   "metadata": {
    "id": "aBN4tfyWCfwZ"
   },
   "source": [
    "## **Step 3.5.2: Stock Price/Performance analysis using Random Forest Model**"
   ]
  },
  {
   "cell_type": "code",
   "execution_count": 86,
   "metadata": {
    "colab": {
     "base_uri": "https://localhost:8080/"
    },
    "id": "iTl1sLuWIvzW",
    "outputId": "07a1e9b6-f74f-4b5b-ab58-e8314910ccdc"
   },
   "outputs": [
    {
     "data": {
      "text/plain": [
       "0.8119986132499133"
      ]
     },
     "execution_count": 86,
     "metadata": {
      "tags": []
     },
     "output_type": "execute_result"
    }
   ],
   "source": [
    "rf = RandomForestClassifier(n_estimators=200)\n",
    "rf.fit(x_train,y_train)\n",
    "y_rf_pred = rf.predict(x_test)\n",
    "accuracy_score(y_test,y_rf_pred)"
   ]
  },
  {
   "cell_type": "markdown",
   "metadata": {
    "id": "osUSrBDQCqbU"
   },
   "source": [
    "## **Step 3.5.3 : Stock Price/Performance analysis using Decision Tree Model**"
   ]
  },
  {
   "cell_type": "code",
   "execution_count": 87,
   "metadata": {
    "colab": {
     "base_uri": "https://localhost:8080/"
    },
    "id": "V6xOBuuxIwJo",
    "outputId": "9ded35e0-9074-4e09-a805-7ac7b64696da"
   },
   "outputs": [
    {
     "data": {
      "text/plain": [
       "0.7930759245672453"
      ]
     },
     "execution_count": 87,
     "metadata": {
      "tags": []
     },
     "output_type": "execute_result"
    }
   ],
   "source": [
    "dt = DecisionTreeClassifier()\n",
    "dt.fit(x_train, y_train)\n",
    "y_dt_pred = dt.predict(x_test)\n",
    "accuracy_score(y_test,y_dt_pred)"
   ]
  },
  {
   "cell_type": "markdown",
   "metadata": {
    "id": "SAD9Fm1rC_Cm"
   },
   "source": [
    "## **Step 3.5.4 : Stock Price/Performance analysis using Linear Discriminant Analyser Model**"
   ]
  },
  {
   "cell_type": "code",
   "execution_count": 88,
   "metadata": {
    "colab": {
     "base_uri": "https://localhost:8080/"
    },
    "id": "YLLdTIV_Dwdl",
    "outputId": "7ca5b78e-73ab-47d0-b97c-49c8829c6b40"
   },
   "outputs": [
    {
     "data": {
      "text/plain": [
       "0.834484927155308"
      ]
     },
     "execution_count": 88,
     "metadata": {
      "tags": []
     },
     "output_type": "execute_result"
    }
   ],
   "source": [
    "lda = LinearDiscriminantAnalysis()\n",
    "lda.fit(x_train, y_train)\n",
    "y_lda_pred = lda.predict(x_test)\n",
    "accuracy_score(y_test,y_lda_pred)"
   ]
  },
  {
   "cell_type": "markdown",
   "metadata": {
    "id": "I2CLTjuZDO2m"
   },
   "source": [
    "## **Step 3.5.5 : Stock Price/Performance analysis using AdaBoost Model**"
   ]
  },
  {
   "cell_type": "code",
   "execution_count": 89,
   "metadata": {
    "colab": {
     "base_uri": "https://localhost:8080/"
    },
    "id": "EmN_-n4d707r",
    "outputId": "29e0ead4-28c3-4fc8-92d7-a18800fdc20e"
   },
   "outputs": [
    {
     "data": {
      "text/plain": [
       "0.8535849908490619"
      ]
     },
     "execution_count": 89,
     "metadata": {
      "tags": []
     },
     "output_type": "execute_result"
    }
   ],
   "source": [
    "adb = AdaBoostClassifier()\n",
    "adb.fit(x_train, y_train)\n",
    "y_adb_pred = adb.predict(x_test)\n",
    "accuracy_score(y_test,y_adb_pred)"
   ]
  },
  {
   "cell_type": "markdown",
   "metadata": {
    "id": "0Ar46YdWDXvc"
   },
   "source": [
    "## **Step 3.5.6: Stock Price/Performance analysis using Logistic Gradient Boosting Model**"
   ]
  },
  {
   "cell_type": "code",
   "execution_count": 90,
   "metadata": {
    "colab": {
     "base_uri": "https://localhost:8080/"
    },
    "id": "UmfCS4f5NY_s",
    "outputId": "e7bbcc4d-4f22-43e7-ac09-f828040fb4d8"
   },
   "outputs": [
    {
     "data": {
      "text/plain": [
       "0.855213615950851"
      ]
     },
     "execution_count": 90,
     "metadata": {
      "tags": []
     },
     "output_type": "execute_result"
    }
   ],
   "source": [
    "xgb = GradientBoostingClassifier()\n",
    "xgb.fit(x_train, y_train)\n",
    "y_xgb_pred = xgb.predict(x_test)\n",
    "accuracy_score(y_test,y_xgb_pred)\n"
   ]
  },
  {
   "cell_type": "code",
   "execution_count": 92,
   "metadata": {
    "colab": {
     "base_uri": "https://localhost:8080/"
    },
    "id": "grIZoGNpS3lE",
    "outputId": "460773ac-3485-499b-b710-b8642d3b6b9d"
   },
   "outputs": [
    {
     "name": "stdout",
     "output_type": "stream",
     "text": [
      "Accuracy of Logistic Regression Model:  83.22032395127025 %\n",
      "Accuracy of Random forest Model      :  81.19986132499133 %\n",
      "Accuracy of Decision Tree Model      :  79.30759245672454 %\n",
      "Accuracy of Linear Discriminant Mode  :  83.4484927155308 %\n",
      "Accuracy of AdaBoost Model           :  85.35849908490619 %\n",
      "Accuracy of Gradient Boosting Model  :  85.5213615950851 %\n"
     ]
    }
   ],
   "source": [
    "print(\"Accuracy of Logistic Regression Model: \",accuracy_score(y_test,y_logit_pred)*100,\"%\")\n",
    "print(\"Accuracy of Random forest Model      : \",accuracy_score(y_test,y_rf_pred)*100,\"%\")\n",
    "print(\"Accuracy of Decision Tree Model      : \",accuracy_score(y_test,y_dt_pred)*100,\"%\")\n",
    "print(\"Accuracy of Linear Discriminant Mode  : \",accuracy_score(y_test,y_lda_pred)*100,\"%\")\n",
    "print(\"Accuracy of AdaBoost Model           : \",accuracy_score(y_test,y_adb_pred)*100,\"%\")\n",
    "print(\"Accuracy of Gradient Boosting Model  : \",accuracy_score(y_test,y_xgb_pred)*100,\"%\")"
   ]
  },
  {
   "cell_type": "markdown",
   "metadata": {
    "id": "o2DubAyaF2jQ"
   },
   "source": [
    "# **Conclusion:**\n",
    "\n",
    "Here, I have used six different Neural Network models to carry out the analysis and prediction of stock price/performance and train them with Hybrid data generated from Numerical data (i.e. Last 17 years Stock price/performance records of TCS (Tata Consultancy Service)) and Textual data (i.e.India News Headlines data). \n",
    "\n",
    "WI have found accuracy of  each model as mention below:\n",
    "\n",
    "\n",
    "1. Logistic Regression Model:  83.22032395127025 %\n",
    "2. Random forest Model      :  81.19986132499133 %\n",
    "3. Decision Tree Model      :  79.30759245672454 %\n",
    "4. Linear Discriminant Model :  83.4484927155308 %\n",
    "5. AdaBoost Model           :  85.35849908490619 %\n",
    "6. **Gradient Boosting Model  :  85.5213615950851 %**\n",
    "\n",
    " At the end, we can clearly see that Gradient Boosing Model gives more accuracy(i.e. 85.5%)  as compared to all other models.Gradient Boosting Model has 85.5% accuracy which means it performs better  on Analysis and prediction of Stock price/performance than other 5 Neural Network Models."
   ]
  }
 ],
 "metadata": {
  "accelerator": "TPU",
  "colab": {
   "collapsed_sections": [],
   "name": "Stock Market Prediction using  Numerical and Textual Analysis.ipynb",
   "provenance": []
  },
  "kernelspec": {
   "display_name": "Python 3",
   "language": "python",
   "name": "python3"
  },
  "language_info": {
   "codemirror_mode": {
    "name": "ipython",
    "version": 3
   },
   "file_extension": ".py",
   "mimetype": "text/x-python",
   "name": "python",
   "nbconvert_exporter": "python",
   "pygments_lexer": "ipython3",
   "version": "3.8.8"
  }
 },
 "nbformat": 4,
 "nbformat_minor": 1
}
